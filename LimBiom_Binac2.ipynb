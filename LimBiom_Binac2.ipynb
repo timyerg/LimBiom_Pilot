{
 "cells": [
  {
   "cell_type": "markdown",
   "id": "f57487f7-3f08-4d3d-92a2-e45daa08ed4b",
   "metadata": {},
   "source": [
    "# Variables\n",
    "#### This cell will create in the current directory two symbolic links named \"PS\" and \"WS\".\n",
    "- PS - project space. Here you can store your raw data and results. It is long storage.\n",
    "- WS - working space. Here you should run your analyses. It is short storage.\n",
    "- RR - folder for your raw reads. Copy your raw reads to this folder!\n",
    "- CR - folder for cleaned reads. After cleaning your samples will be stored there.\n",
    "- DB - folder for databases. Symbolic link will be created in your \"Home\" directory.\n",
    "- REFS - folder for reference genomes.\n",
    "- LOGS - folder for all Binac2 logs to keep.\n",
    "- BIN - folder for additional scripts.\n",
    "#### ATTENTION: Pandas should be installed in your base environment:\n",
    "- conda install -c conda-forge -c bioconda pandas\n",
    "#### !!! Move the results that you want to keep from \"WS\" to \"PS\" when you are done!!!\n"
   ]
  },
  {
   "cell_type": "code",
   "execution_count": 1,
   "id": "004b661e-b73f-47a3-86ea-a8b5c3420a89",
   "metadata": {},
   "outputs": [
    {
     "name": "stdout",
     "output_type": "stream",
     "text": [
      "Number of raw samples:  0\n",
      "Number of clean samples:  157\n",
      "Number of assemblies:  157\n"
     ]
    }
   ],
   "source": [
    "# Name for the project / work spaces and your Binac2 user name\n",
    "NAME = 'LimBiom'\n",
    "USER = 'user_name'\n",
    "K2DB = 'nt' #kraken2 db, check options \"qiime annotate build-kraken-db\", \n",
    "              #and description: https://benlangmead.github.io/aws-indexes/k2\n",
    " \n",
    "# Variables that will be shared between this notebook and all bash scripts\n",
    "VARS = (\n",
    "    f'WS=/pfs/10/work/{USER}-{NAME}/\\n'\n",
    "    f'PS=/pfs/10/project/bw18d010/{USER}/{NAME}/\\n'\n",
    "    f'DB=/pfs/10/project/bw18d010/{USER}/Databases/\\n'\n",
    "    f'REFS=/pfs/10/project/bw18d010/{USER}/Databases/Reference_Genomes\\n'\n",
    "    f'LOGS=/pfs/10/project/bw18d010/{USER}/{NAME}/Logs\\n'\n",
    "    f'RR=/pfs/10/project/bw18d010/{USER}/{NAME}/Raw_reads\\n'\n",
    "    f'CR=/pfs/10/project/bw18d010/{USER}/{NAME}/Clean_reads\\n'\n",
    "    f'BIN=~/Scripts\\n'\n",
    ")\n",
    "\n",
    "# Path to your conda \n",
    "CONDA = '$HOME/miniforge3/etc/profile.d/conda.sh'\n",
    "\n",
    "###############################################################################\n",
    "################################ DO NOT CHANGE ################################\n",
    "###############################################################################\n",
    "import pandas as pd\n",
    "import numpy as np\n",
    "import os\n",
    "from uuid import uuid4\n",
    "\n",
    "#extract bash variables for python\n",
    "for var in VARS.strip().split('\\n'):\n",
    "    vars()[var.split('=')[0]]=var.split('=')[1]\n",
    "\n",
    "#create folders and symbolic links\n",
    "!mkdir -p $WS $PS $DB $REFS $RR $CR $BIN $LOGS\n",
    "!ln -sf -T {PS} ./'PS'\n",
    "!ln -sf -T {WS} ./'WS'\n",
    "!ln -sf -T {DB} ~/'DB'\n",
    "\n",
    "#Binac2 function\n",
    "source = f'#!/bin/bash\\nsource {CONDA}'\n",
    "COMM = 'export TMPDIR=$TMPDIR\\n#Custom variables and commands\\ncd $WS\\n'\n",
    "STRING = '\\n'.join([source, VARS, COMM])\n",
    "\n",
    "# binac function that will submit the job to server\n",
    "def binac2(tasks=1, ppn=1, time='00:15:00', mem=2, name='myjob', logdir=LOGS,\n",
    "          queue='compute', todo='echo \"Command\"', STRING=STRING, nodes=1):\n",
    "    text = '\\n'.join([STRING, todo])\n",
    "    script = f'{logdir}/{name}.sh'\n",
    "    !mkdir -p {logdir}\n",
    "    with open(script, \"w\") as text_file:\n",
    "        text_file.write(text)\n",
    "    !chmod +x {script}\n",
    "    run = f\"\"\"sbatch -t {time} -p {queue} --mem={mem}g -J {name} --output={logdir}/{name}.log \\\n",
    "              --error={logdir}/{name}.error --ntasks-per-node={tasks} -N {nodes} {script}\"\"\"\n",
    "    !$run\n",
    "\n",
    "cleaning = !rm -r $WS/*/*/.ipynb_c* $WS/*/.ipynb_c* $WS/.ipynb_c* $PS/*/*/.ipynb_c* $PS/*/.ipynb_c* $PS/.ipynb_c*\n",
    "FORMAT = \"JobId:10,Name:20,MinMemory:11,NumTasks:6,State:9,TimeUsed:12,TimeLimit:11\"\n",
    "\n",
    "###############################################################################\n",
    "######################## Here you can change something ########################\n",
    "###############################################################################\n",
    "\n",
    "# List all raw samples\n",
    "raws = []\n",
    "if os.path.exists(RR): \n",
    "    raws = sorted(list(set([f.rsplit('_', 1)[0] for f in os.listdir(RR) if f.endswith('.gz')])))\n",
    "    print('Number of raw samples: ', len(raws))\n",
    "\n",
    "# List all clean samples\n",
    "cleans = []\n",
    "if os.path.exists(CR): \n",
    "    cleans = sorted(list(set([f.rsplit('_', 1)[0] for f in os.listdir(CR) if f.endswith('.gz')])))\n",
    "    print('Number of clean samples: ', len(cleans))\n",
    "\n",
    "# List all assemblies\n",
    "spades = []\n",
    "if os.path.exists(f'{PS}/SPAdes'): \n",
    "    spades = sorted(list(set([f.rsplit('_',1)[0] for f in os.listdir(f'{PS}/SPAdes') if f.endswith('.fasta')])))\n",
    "    print('Number of assemblies: ', len(spades))"
   ]
  },
  {
   "cell_type": "markdown",
   "id": "d0a917c9-8a34-49cf-a788-62c358b1f148",
   "metadata": {},
   "source": [
    "# Managing your work space\n",
    "Here are the command to manage your work space. Uncomment to run"
   ]
  },
  {
   "cell_type": "code",
   "execution_count": null,
   "id": "be67b8af-9a37-45f4-a61f-79529dd0e8ec",
   "metadata": {},
   "outputs": [],
   "source": [
    "#!ws_allocate {NAME} 30\n",
    "#!ws_list -a\n",
    "#!ws_find {NAME}\n",
    "#!ws_extend {NAME} 30\n",
    "#!ws_release {NAME} #delete, remove content first"
   ]
  },
  {
   "cell_type": "markdown",
   "id": "be682fed-27d1-4c11-9fbb-d4652a21802d",
   "metadata": {},
   "source": [
    "# Rename samples. \n",
    "If your samples contain some extra substrings you need to rename it as SampleID_1/2.fq.gz"
   ]
  },
  {
   "cell_type": "code",
   "execution_count": 18,
   "id": "381ba13b-b01f-4f0f-a7b1-ce5641fc272a",
   "metadata": {},
   "outputs": [],
   "source": [
    "# Count \"_\" in your SampleIDs and set \"n\" to that number.\n",
    "# Examples: \"My_sample1\" - n = 1; \"MySample1\" - n = 0\n",
    "\n",
    "n = 1 \n",
    "for raw in raws:\n",
    "    new = '_'.join(raw.split('_')[:n+1])\n",
    "\n",
    "    !mv {RR}/{raw}_1.fq.gz {RR}/{new}_1.fq.gz\n",
    "    !mv {RR}/{raw}_2.fq.gz {RR}/{new}_2.fq.gz\n",
    "\n",
    "raws = sorted(list(set([f.rsplit('_', 1)[0] for f in os.listdir(RR) if f.endswith('.gz')])))"
   ]
  },
  {
   "cell_type": "markdown",
   "id": "468a85b7-bc3c-4241-8951-d4825a8acce0",
   "metadata": {},
   "source": [
    "# QC and host DNA removal"
   ]
  },
  {
   "cell_type": "markdown",
   "id": "290e9479-cfd1-48df-bc8e-fea3b0326855",
   "metadata": {},
   "source": [
    "## Installation\n",
    "Better run directly in the terminal (uncomment)"
   ]
  },
  {
   "cell_type": "code",
   "execution_count": null,
   "id": "ef9a6bd5-5987-41ee-aaf6-9c01d51bd8e6",
   "metadata": {},
   "outputs": [],
   "source": [
    "#conda create -n QC -c bioconda -c conda-forge trim-galore bowtie2 -y"
   ]
  },
  {
   "cell_type": "markdown",
   "id": "abf8b09a-0582-4100-978c-9e9ab16e1c62",
   "metadata": {},
   "source": [
    "## Create index\n",
    "- Only once. When reusing the same reference genomes, you don't need to recreate.\n",
    "- Modify \"REF-GENS\" list to contain only the genomes you need.\n",
    "- ATTENTION: In your REFS directory, create folder with the same name as the genomes from \"REF_GENS\" and upload there genome of interest in the \".fna.gz\" format."
   ]
  },
  {
   "cell_type": "code",
   "execution_count": 22,
   "id": "b2a7970f-58e0-4546-8319-ba462d4b09cb",
   "metadata": {
    "collapsed": true,
    "jupyter": {
     "outputs_hidden": true
    }
   },
   "outputs": [
    {
     "name": "stdout",
     "output_type": "stream",
     "text": [
      "Submitted batch job 38620\n",
      "Submitted batch job 38621\n",
      "Submitted batch job 38622\n",
      "Submitted batch job 38623\n",
      "Submitted batch job 38624\n",
      "Submitted batch job 38625\n"
     ]
    }
   ],
   "source": [
    "THREADS = 8\n",
    "logdir = f'{LOGS}/Bowtie2'\n",
    "\n",
    "todo = '''\n",
    "conda activate QC\n",
    "cd $REFS/{index}\n",
    "\n",
    "#skip if index exists\n",
    "if [ -f $REFS/{index}/*.bt2 ]\n",
    "then\n",
    "    echo \"Index {index} already exists.\"\n",
    "else\n",
    "    pwd\n",
    "    echo \"Creating index {index}...\"\n",
    "    bowtie2-build ./*.fna.gz {index} --threads {THREADS}\n",
    "fi\n",
    "'''\n",
    "\n",
    "# list of genomes to make the index\n",
    "REF_GENS = ['Chicken', 'Corn', 'Cow', 'Duck', 'Human', 'Pig', 'Turkey']\n",
    "\n",
    "for index in REF_GENS:\n",
    "    #if index == REF_GENS[0]:\n",
    "    #    continue\n",
    "    \n",
    "    binac2(tasks=THREADS, time='10:00:00', mem=16, name=f'{index}_BW2_ind', logdir=logdir, \n",
    "           todo=todo.format(index=index, THREADS=THREADS))"
   ]
  },
  {
   "cell_type": "markdown",
   "id": "8883e992-63bf-48f8-8d47-b1a595621d10",
   "metadata": {},
   "source": [
    "## Read QC and Host DNA removal\n",
    "Use batches to process samples in parallel"
   ]
  },
  {
   "cell_type": "code",
   "execution_count": 41,
   "id": "26344e64-d887-49b3-96c0-a5de4b82b412",
   "metadata": {},
   "outputs": [
    {
     "name": "stdout",
     "output_type": "stream",
     "text": [
      "Submitted batch job 124003\n",
      "Submitted batch job 124004\n",
      "Submitted batch job 124005\n",
      "Submitted batch job 124006\n",
      "Submitted batch job 124007\n",
      "Submitted batch job 124008\n",
      "Submitted batch job 124009\n",
      "Submitted batch job 124010\n",
      "Submitted batch job 124011\n",
      "Submitted batch job 124012\n",
      "Submitted batch job 124013\n",
      "Submitted batch job 124014\n",
      "Submitted batch job 124015\n",
      "Submitted batch job 124016\n",
      "Submitted batch job 124017\n",
      "Submitted batch job 124018\n"
     ]
    }
   ],
   "source": [
    "#Read QC and host DNA removal\n",
    "\n",
    "THREADS = 8\n",
    "logdir = f\"{LOGS}/QC\"\n",
    "\n",
    "todo = '''\n",
    "conda activate QC\n",
    "sras=({IDS})\n",
    "GENS=({GENS})\n",
    "\n",
    "echo \"Processing {BATCH}\"\n",
    "for name in ${{sras[@]}}; do\n",
    "    preQC=$PS/FastQC/preQC/$name\n",
    "    postQC=$PS/FastQC/postQC/$name\n",
    "    outdir=$CR/$name\n",
    "    \n",
    "    echo\n",
    "    echo \"############################################################\"\n",
    "    echo \"Processing $name \"\n",
    "\n",
    "    #skip processed files\n",
    "    if [ -d $outdir ]; then\n",
    "        echo \"$name already busy. Skipping.\"\n",
    "        continue\n",
    "    fi\n",
    "\n",
    "    cd $WS\n",
    "    RR1=$RR/${{name}}_1.f*q.gz\n",
    "    RR2=$RR/${{name}}_2.f*q.gz\n",
    "    CR1=$CR/${{name}}_1.fq.gz\n",
    "    CR2=$CR/${{name}}_2.fq.gz\n",
    "\n",
    "    #skip processed files\n",
    "    if [ -f $CR1 ]; then\n",
    "        echo \"$name already cleaned. Skipping.\"\n",
    "        continue\n",
    "    fi\n",
    "    \n",
    "    rm -rf $outdir $preQC $postQC $CR1 $CR2\n",
    "    mkdir -p $preQC $postQC $outdir \n",
    "\n",
    "    # Fastq report before QC\n",
    "    echo \"Report before QC...\"\n",
    "    fastqc -q -t {THREADS} -o $preQC -f fastq $RR1 $RR2\n",
    "    \n",
    "    echo\n",
    "    echo \"Running Trim-Galore for QC\"\n",
    "    echo   \n",
    "    cd $outdir\n",
    "    trim_galore --paired $RR1 $RR2 -j {THREADS}\n",
    "\n",
    "    # Fastq report after QC\n",
    "    echo \"Report after QC...\"\n",
    "    cd\n",
    "    cd $WS\n",
    "    R1=$outdir/*_val_1.f*q.gz\n",
    "    R2=$outdir/*_val_2.f*q.gz\n",
    "    fastqc -q -t {THREADS} -o $postQC -f fastq $R1 $R2\n",
    "    \n",
    "    echo\n",
    "    \n",
    "    for GEN in ${{GENS[@]}}; do\n",
    "        echo \"Removing $GEN DNA from reads\"\n",
    "        cd\n",
    "        cd $REFS/$GEN\n",
    "        bowtie2 -p {THREADS} -x $GEN -1 $R1 -2 $R2 \\\n",
    "        --un-conc-gz $outdir/no_${{GEN}} > $outdir/${{GEN}}.sam\n",
    "        echo \"$GEN DNA removed\"\n",
    "        R1=$outdir/no_${{GEN}}.1\n",
    "        R2=$outdir/no_${{GEN}}.2\n",
    "    done\n",
    "    \n",
    "    echo\n",
    "    echo \"Move and clean!\"\n",
    "    cd\n",
    "    cd $WS\n",
    "    mv $R1 $CR1\n",
    "    mv $R2 $CR2\n",
    "    rm -rf $outdir\n",
    "\n",
    "    #remove processed files\n",
    "    if [ -f $CR1 ]; then\n",
    "        echo \"Removing raw read since $name successfully cleaned.\"\n",
    "        rm $RR1 $RR2\n",
    "    fi\n",
    "done\n",
    "\n",
    "echo\n",
    "echo \"############################################################\"\n",
    "echo \"###                   All done! Enjoy!                   ###\"\n",
    "echo \"### Citations:                                           ###\"\n",
    "echo \"### 1. Cutadapt: https://doi.org/10.14806/ej.17.1.200    ###\"\n",
    "echo \"### 2. Bowtie: https://doi.org/10.1038/nmeth.1923        ###\"\n",
    "echo \"### 3. FastQC (optional):                                ###\"\n",
    "echo \"###    https://doi.org/10.1038/nmeth.1923                ###\"\n",
    "echo \"### 4. TrimGalore (optional):                            ###\"\n",
    "echo \"###    https://github.com/FelixKrueger/TrimGalore        ###\"\n",
    "echo \"############################################################\"\n",
    "'''\n",
    "\n",
    "# Split your samples into batches for parallel execution (b - number of samples per batch).\n",
    "b = 10\n",
    "batches = {f'b{i+1}-{i+b}': raws[i:i + b] for i in range(0, len(raws), b)}\n",
    "\n",
    "#launch samples\n",
    "for batch in batches:\n",
    "    #if batch not in [f'b1-{b}']:\n",
    "    #    continue\n",
    "        \n",
    "    IDS = ' '.join(batches[batch])\n",
    "    GENS = ' '.join(['Pig', 'Corn']) #list genomes to remove host DNA\n",
    "            \n",
    "    binac2(tasks=THREADS, time='04-00', mem=32, name=f'{batch}_QC_R', logdir=logdir, \n",
    "           todo=todo.format(BATCH=batch, IDS=IDS, GENS=GENS, THREADS=THREADS))\n"
   ]
  },
  {
   "cell_type": "markdown",
   "id": "1be41988-7f0d-4276-9325-2815228cd063",
   "metadata": {},
   "source": [
    "# Import cleaned reads to Qiime2"
   ]
  },
  {
   "cell_type": "code",
   "execution_count": 107,
   "id": "7c49ad50-3611-44bd-b548-d36e83d1353c",
   "metadata": {},
   "outputs": [
    {
     "name": "stdout",
     "output_type": "stream",
     "text": [
      "Submitted batch job 124102\n",
      "Submitted batch job 124103\n",
      "Submitted batch job 124104\n",
      "Submitted batch job 124105\n",
      "Submitted batch job 124106\n",
      "Submitted batch job 124107\n",
      "Submitted batch job 124108\n",
      "Submitted batch job 124109\n",
      "Submitted batch job 124110\n",
      "Submitted batch job 124111\n",
      "Submitted batch job 124112\n",
      "Submitted batch job 124113\n",
      "Submitted batch job 124114\n",
      "Submitted batch job 124115\n",
      "Submitted batch job 124116\n",
      "Submitted batch job 124117\n"
     ]
    }
   ],
   "source": [
    "# import\n",
    "\n",
    "THREADS = 4\n",
    "logdir = f'{LOGS}/Q2'\n",
    "\n",
    "todo = '''\n",
    "conda activate qiime2-moshpit-2025.4\n",
    "\n",
    "mkdir -p TEMP/{BATCH}\n",
    "export TMPDIR=$WS/TEMP/{BATCH}\n",
    "\n",
    "echo \"Processing {BATCH}\"\n",
    "sras=({IDS})\n",
    "\n",
    "mkdir -p {BATCH}\n",
    "for name in ${{sras[@]}}; do\n",
    "    cp $CR/${{name}}_1.fq.gz {BATCH}/${{name}}_AGCT_L001_R1_001.fastq.gz\n",
    "    cp $CR/${{name}}_2.fq.gz {BATCH}/${{name}}_AGCT_L001_R2_001.fastq.gz\n",
    "done\n",
    "\n",
    "#skip cache if exists\n",
    "if [ -d ./cache ]; then\n",
    "    echo \"$cache already exists. Skipping.\"\n",
    "else\n",
    "    qiime tools cache-create --cache ./cache    \n",
    "fi\n",
    "\n",
    "rm -r {BATCH}/.ipynb_checkpoints\n",
    "qiime tools cache-import \\\n",
    "    --type 'SampleData[PairedEndSequencesWithQuality]' \\\n",
    "    --input-path {BATCH} \\\n",
    "    --cache ./cache \\\n",
    "    --input-format 'CasavaOneEightSingleLanePerSampleDirFmt' \\\n",
    "    --key {BATCH}\n",
    "\n",
    "rm -r {BATCH}\n",
    "'''\n",
    "\n",
    "# Split your samples into batches for parallel execution (b - number of samples per batch).\n",
    "b = 10\n",
    "batches = {f'b{i+1}-{i+b}': cleans[i:i + b] for i in range(0, len(cleans), b)}\n",
    "\n",
    "#launch samples\n",
    "for batch in batches:\n",
    "    #if batch in [f'b1-{b}']:\n",
    "    #    continue\n",
    "        \n",
    "    IDS = ' '.join(batches[batch])\n",
    "            \n",
    "    binac2(tasks=THREADS, time='01-00', mem=32, name=f'{batch}_Q2_imp', logdir=logdir, \n",
    "           todo=todo.format(BATCH=batch, IDS=IDS))"
   ]
  },
  {
   "cell_type": "markdown",
   "id": "66e572d7-a6fd-4602-832b-b34d71898ae7",
   "metadata": {},
   "source": [
    "# Taxonomy annotation (Reads)"
   ]
  },
  {
   "cell_type": "markdown",
   "id": "3c45ed78-7566-4cc2-a65b-9a939635b67c",
   "metadata": {},
   "source": [
    "## Fetch database for Kraken2 (PlusPF)"
   ]
  },
  {
   "cell_type": "code",
   "execution_count": 8,
   "id": "6b012247-7445-40f5-8d92-a15f04be628e",
   "metadata": {},
   "outputs": [
    {
     "name": "stdout",
     "output_type": "stream",
     "text": [
      "Submitted batch job 499857\n"
     ]
    }
   ],
   "source": [
    "# database\n",
    "\n",
    "THREADS = 2\n",
    "logdir = f'{LOGS}/Q2'\n",
    "\n",
    "todo = '''\n",
    "conda activate qiime2-moshpit-2025.4\n",
    "mkdir -p $WS/TEMP\n",
    "export TMPDIR=$WS/TEMP\n",
    "\n",
    "mkdir -p $DB/{K2DB}\n",
    "qiime annotate build-kraken-db \\\n",
    "    --p-collection {K2DB} \\\n",
    "    --o-kraken2-db $DB/{K2DB}/kraken2.qza \\\n",
    "    --o-bracken-db $DB/{K2DB}/bracken.qza\n",
    "'''\n",
    " \n",
    "binac2(tasks=THREADS, time='07-00', mem=16, name=f'Q2_db_{K2DB}2', logdir=logdir, \n",
    "       todo=todo.format(K2DB=K2DB))"
   ]
  },
  {
   "cell_type": "markdown",
   "id": "c2bebfd6-9853-4d94-9f14-d3a1f80da486",
   "metadata": {},
   "source": [
    "## Assign taxonomy (reads) with Kraken2"
   ]
  },
  {
   "cell_type": "code",
   "execution_count": 4,
   "id": "215b61b8-8058-42a7-8c48-bb120f07eb02",
   "metadata": {},
   "outputs": [
    {
     "name": "stdout",
     "output_type": "stream",
     "text": [
      "Submitted batch job 499699\n",
      "Submitted batch job 499700\n",
      "Submitted batch job 499701\n",
      "Submitted batch job 499702\n",
      "Submitted batch job 499703\n",
      "Submitted batch job 499704\n",
      "Submitted batch job 499705\n",
      "Submitted batch job 499706\n",
      "Submitted batch job 499707\n",
      "Submitted batch job 499708\n",
      "Submitted batch job 499709\n",
      "Submitted batch job 499710\n",
      "Submitted batch job 499711\n",
      "Submitted batch job 499712\n",
      "Submitted batch job 499713\n",
      "Submitted batch job 499714\n"
     ]
    }
   ],
   "source": [
    "# taxonomy\n",
    "\n",
    "THREADS = 24\n",
    "logdir = f'{LOGS}/Q2'\n",
    "\n",
    "todo = '''\n",
    "conda activate qiime2-moshpit-2025.4\n",
    "mkdir -p TEMP/{BATCH}\n",
    "export TMPDIR=$WS/TEMP/{BATCH}\n",
    "\n",
    "echo \"Processing {BATCH}\"\n",
    "\n",
    "mkdir -p $PS/Taxonomy $PS/Tables\n",
    "\n",
    "qiime annotate classify-kraken2 \\\n",
    "    --i-seqs ./cache:{BATCH} \\\n",
    "    --i-db $DB/{K2DB}/kraken2.qza \\\n",
    "    --p-threads {THREADS} \\\n",
    "    --p-confidence 0.1 \\\n",
    "    --p-report-minimizer-data \\\n",
    "    --o-reports ./cache:{BATCH}_reports_reads \\\n",
    "    --o-outputs ./cache:{BATCH}_hits_reads\n",
    "\n",
    "qiime annotate estimate-bracken \\\n",
    "    --i-kraken2-reports ./cache:{BATCH}_reports_reads \\\n",
    "    --i-db $DB/{K2DB}/bracken.qza \\\n",
    "    --p-threshold 5 \\\n",
    "    --p-read-len 150 \\\n",
    "    --o-taxonomy $PS/Taxonomy/{BATCH}_taxonomy_reads.qza \\\n",
    "    --o-table $PS/Tables/{BATCH}_table_reads.qza \\\n",
    "    --o-reports ./cache:{BATCH}_bracken_reports\n",
    "\n",
    "rm -r TEMP/{BATCH}\n",
    "'''\n",
    "\n",
    "# Split your samples into batches for parallel execution (b - number of samples per batch).\n",
    "b = 10\n",
    "batches = {f'b{i+1}-{i+b}': cleans[i:i + b] for i in range(0, len(cleans), b)}\n",
    "\n",
    "#launch samples\n",
    "for batch in batches:\n",
    "    #if batch in [f'b1-{b}']:\n",
    "    #    continue\n",
    "                    \n",
    "    binac2(tasks=THREADS, time='04-00', mem=120, name=f'{batch}_K2_reads', logdir=logdir, \n",
    "           todo=todo.format(BATCH=batch, THREADS=THREADS))"
   ]
  },
  {
   "cell_type": "code",
   "execution_count": 37,
   "id": "0fa6bd76-07df-4c62-8450-8d7d5d82b08e",
   "metadata": {},
   "outputs": [
    {
     "name": "stdout",
     "output_type": "stream",
     "text": [
      "Submitted batch job 503037\n",
      "Submitted batch job 503038\n",
      "Submitted batch job 503039\n",
      "Submitted batch job 503040\n",
      "Submitted batch job 503041\n",
      "Submitted batch job 503042\n",
      "Submitted batch job 503043\n",
      "Submitted batch job 503044\n",
      "Submitted batch job 503045\n",
      "Submitted batch job 503046\n",
      "Submitted batch job 503047\n",
      "Submitted batch job 503048\n",
      "Submitted batch job 503049\n",
      "Submitted batch job 503050\n",
      "Submitted batch job 503051\n",
      "Submitted batch job 503052\n"
     ]
    }
   ],
   "source": [
    "# taxonomy\n",
    "\n",
    "THREADS = 24\n",
    "logdir = f'{LOGS}/Q2'\n",
    "\n",
    "todo = '''\n",
    "conda activate qiime2-moshpit-2025.4\n",
    "mkdir -p TEMP/{BATCH}\n",
    "export TMPDIR=$WS/TEMP/{BATCH}\n",
    "\n",
    "echo \"Processing {BATCH}\"\n",
    "\n",
    "mkdir -p $PS/Taxonomy_nt $PS/Tables_nt\n",
    "\n",
    "qiime annotate classify-kraken2 \\\n",
    "    --i-seqs ./cache:{BATCH} \\\n",
    "    --i-db $DB/{K2DB}/kraken2.qza \\\n",
    "    --p-threads {THREADS} \\\n",
    "    --p-confidence 0 \\\n",
    "    --p-report-minimizer-data \\\n",
    "    --o-reports ./cache:{BATCH}_reports_reads_nt \\\n",
    "    --o-outputs ./cache:{BATCH}_hits_reads_nt\n",
    "\n",
    "qiime annotate estimate-bracken \\\n",
    "    --i-kraken2-reports ./cache:{BATCH}_reports_reads_nt \\\n",
    "    --i-db $DB/{K2DB}/bracken.qza \\\n",
    "    --p-threshold 5 \\\n",
    "    --p-read-len 150 \\\n",
    "    --o-taxonomy $PS/Taxonomy_nt/{BATCH}_taxonomy_reads.qza \\\n",
    "    --o-table $PS/Tables_nt/{BATCH}_table_reads.qza \\\n",
    "    --o-reports ./cache:{BATCH}_bracken_reports_nt\n",
    "\n",
    "rm -r TEMP/{BATCH}\n",
    "'''\n",
    "\n",
    "# Split your samples into batches for parallel execution (b - number of samples per batch).\n",
    "b = 10\n",
    "batches = {f'b{i+1}-{i+b}': cleans[i:i + b] for i in range(0, len(cleans), b)}\n",
    "\n",
    "#launch samples\n",
    "for batch in batches:\n",
    "    #if batch in [f'b1-{b}']:\n",
    "    #    continue\n",
    "                    \n",
    "    binac2(tasks=THREADS, time='10-00', mem=1000, name=f'{batch}_K2_reads', logdir=logdir, \n",
    "           todo=todo.format(BATCH=batch, THREADS=THREADS, K2DB=K2DB))"
   ]
  },
  {
   "cell_type": "markdown",
   "id": "2748956c-2da6-4176-bf24-c0e26d9b183c",
   "metadata": {},
   "source": [
    "## Merge and filter tables"
   ]
  },
  {
   "cell_type": "code",
   "execution_count": 21,
   "id": "d35b4d29-de91-45d2-9a1f-9591b695c31d",
   "metadata": {},
   "outputs": [
    {
     "name": "stdout",
     "output_type": "stream",
     "text": [
      "Submitted batch job 499740\n"
     ]
    }
   ],
   "source": [
    "# merge taxonomy and tables\n",
    "\n",
    "THREADS = 2\n",
    "logdir = f'{LOGS}/Q2'\n",
    "\n",
    "todo = '''\n",
    "conda activate qiime2-moshpit-2025.4\n",
    "\n",
    "qiime feature-table merge \\\n",
    "    --i-tables $PS/Tables/b*-*_table_reads.qza \\\n",
    "    --o-merged-table $PS/Tables/table_reads_all.qza\n",
    "\n",
    "qiime feature-table merge-taxa \\\n",
    "    --i-data $PS/Taxonomy/b*-*_taxonomy_reads.qza \\\n",
    "    --o-merged-data $PS/Taxonomy/taxonomy_reads.qza\n",
    "\n",
    "qiime feature-table summarize \\\n",
    "    --i-table $PS/Tables/table_reads_all.qza \\\n",
    "    --o-visualization $PS/Tables/table_reads_all.qzv\n",
    "\n",
    "rm $PS/Taxonomy/b*-*_taxonomy_reads.qza $PS/Tables/b*-*_table_reads.qza\n",
    "'''\n",
    "\n",
    "#launch samples             \n",
    "binac2(tasks=THREADS, time='01-00', mem=16, name=f'Merging_tables_reads', logdir=logdir, todo=todo)"
   ]
  },
  {
   "cell_type": "code",
   "execution_count": 3,
   "id": "4ace74ca-ff78-4797-9b64-7d5b4c403dfb",
   "metadata": {},
   "outputs": [
    {
     "name": "stdout",
     "output_type": "stream",
     "text": [
      "Submitted batch job 517964\n"
     ]
    }
   ],
   "source": [
    "# merge taxonomy and tables\n",
    "\n",
    "THREADS = 2\n",
    "logdir = f'{LOGS}/Q2'\n",
    "\n",
    "todo = '''\n",
    "conda activate qiime2-moshpit-2025.4\n",
    "\n",
    "qiime feature-table merge \\\n",
    "    --i-tables $PS/Tables_nt/b*-*_table_reads.qza \\\n",
    "    --o-merged-table $PS/Tables_nt/table_reads_all.qza\n",
    "\n",
    "qiime feature-table merge-taxa \\\n",
    "    --i-data $PS/Taxonomy_nt/b*-*_taxonomy_reads.qza \\\n",
    "    --o-merged-data $PS/Taxonomy_nt/taxonomy_reads.qza\n",
    "\n",
    "qiime feature-table summarize \\\n",
    "    --i-table $PS/Tables_nt/table_reads_all.qza \\\n",
    "    --o-visualization $PS/Tables_nt/table_reads_all.qzv\n",
    "\n",
    "rm $PS/Taxonomy_nt/b*-*_taxonomy_reads.qza $PS/Tables_nt/b*-*_table_reads.qza\n",
    "'''\n",
    "\n",
    "#launch samples             \n",
    "binac2(tasks=THREADS, time='01-00', mem=16, name=f'Merging_tables_reads_nt', logdir=logdir, todo=todo)"
   ]
  },
  {
   "cell_type": "markdown",
   "id": "93411fbf-e979-4e60-a547-999c08ad16d5",
   "metadata": {},
   "source": [
    "# Assemblies"
   ]
  },
  {
   "cell_type": "markdown",
   "id": "388cce41-52d8-4fcd-8510-1eada2b1ef09",
   "metadata": {},
   "source": [
    "## SPAdes"
   ]
  },
  {
   "cell_type": "code",
   "execution_count": 144,
   "id": "ce13863e-ff5b-43de-9b4b-5f1c64093d5c",
   "metadata": {},
   "outputs": [
    {
     "name": "stdout",
     "output_type": "stream",
     "text": [
      "Submitted batch job 124985\n"
     ]
    }
   ],
   "source": [
    "THREADS = 12\n",
    "logdir = f'{LOGS}/Spades'\n",
    "\n",
    "todo = '''\n",
    "conda activate qiime2-moshpit-2025.4\n",
    "\n",
    "SP=$WS/SPAdes\n",
    "SPA=$PS/SPAdes\n",
    "\n",
    "mkdir -p $SP $SPA\n",
    "\n",
    "echo \"Processing {BATCH}\"\n",
    "sras=({IDS})\n",
    "for name in ${{sras[@]}}; do\n",
    "    echo\n",
    "    echo \"############################################################\"\n",
    "    echo \"Processing $name \"\n",
    "    \n",
    "    echo \"Check if reads already assembled or busy\" \n",
    "    if [ -f $SPA/${{name}}_scaffolds.fa ]; then\n",
    "        echo \"$name already assembled. Skipping.\"\n",
    "        continue\n",
    "    elif [ -d $SP/$name ]; then\n",
    "        echo \"$name is busy. Skipping.\" \n",
    "        continue\n",
    "    fi\n",
    "    echo \"$name is not assembled. Attempting assembly...\"\n",
    "    \n",
    "    CR1=$CR/${{name}}_1.fq.gz\n",
    "    CR2=$CR/${{name}}_2.fq.gz\n",
    "\n",
    "    spades.py --meta -1 $CR1 -2 $CR2 -o $SP/$name -t {THREADS}\n",
    "\n",
    "    echo \"Checking if assembly created\"\n",
    "    ass=$SP/$name/scaffolds.fasta\n",
    "    if [ -f $ass ]; then\n",
    "        echo \"Moving assembly\"\n",
    "        mv $ass $SPA/${{name}}_scaffolds.fasta\n",
    "        mv $SP/$name/contigs.fasta $SPA/${{name}}_contigs.fasta\n",
    "    else\n",
    "        echo \"There is something wrong with assembly\"\n",
    "    fi\n",
    "    #rm -r $SP/$name\n",
    "done\n",
    "\n",
    "echo\n",
    "echo \"############################################################\"\n",
    "echo \"###                   All done! Enjoy!                   ###\"\n",
    "echo \"### Citations:                                           ###\"\n",
    "echo \"### 1. Spades: https://doi.org/10.1002/cpbi.102          ###\"\n",
    "echo \"############################################################\"   \n",
    "'''\n",
    "\n",
    "# Split your samples into batches for parallel execution (b - number of samples per batch).\n",
    "b = 10\n",
    "batches = {f'b{i+1}-{i+b}': cleans[i:i + b] for i in range(0, len(cleans), b)}\n",
    "\n",
    "#launch samples\n",
    "for batch in batches:\n",
    "    #if batch not in [f'b1-{b}']:\n",
    "    #    continue\n",
    "        \n",
    "    IDS = ' '.join([i for i in batches[batch] if i not in spades])\n",
    "    if len(IDS) == 0:\n",
    "        continue\n",
    "            \n",
    "    binac2(tasks=THREADS, time='05-00', mem=200, name=f'{batch}_SPAdes', logdir=logdir, \n",
    "           todo=todo.format(BATCH=batch, IDS=IDS, THREADS=THREADS))"
   ]
  },
  {
   "cell_type": "markdown",
   "id": "a8a32f67-b73a-4c8c-9c75-c729b5c1a339",
   "metadata": {},
   "source": [
    "## Quast on assemblies"
   ]
  },
  {
   "cell_type": "code",
   "execution_count": 22,
   "id": "32794c5c-7f86-455a-a1f0-caffb0504326",
   "metadata": {},
   "outputs": [
    {
     "name": "stdout",
     "output_type": "stream",
     "text": [
      "Submitted batch job 125530\n",
      "Submitted batch job 125531\n",
      "Submitted batch job 125532\n",
      "Submitted batch job 125533\n"
     ]
    }
   ],
   "source": [
    "THREADS = 4\n",
    "logdir = f'{LOGS}/Quast'\n",
    "\n",
    "todo = '''\n",
    "conda activate qiime2-moshpit-2025.4\n",
    "\n",
    "QUAST=$PS/Quast\n",
    "SPA=$PS/SPAdes\n",
    "\n",
    "mkdir -p $QUAST\n",
    "\n",
    "echo \"Processing {BATCH}\"\n",
    "sras=({IDS})\n",
    "for name in ${{sras[@]}}; do\n",
    "    echo\n",
    "    echo \"############################################################\"\n",
    "    echo \"Processing $name \"\n",
    "    \n",
    "    echo \"Check if output exists\" \n",
    "    if [ -d $QUAST/$name ]; then\n",
    "        echo \"$name exists. Skipping.\" \n",
    "        continue\n",
    "    fi\n",
    "\n",
    "    quast -t {THREADS} -o $QUAST/$name $SPA/${{name}}_contigs.fasta\n",
    "    \n",
    "done \n",
    "'''\n",
    "\n",
    "# Split your samples into batches for parallel execution (b - number of samples per batch).\n",
    "b = 50\n",
    "batches = {f'b{i+1}-{i+b}': cleans[i:i + b] for i in range(0, len(cleans), b)}\n",
    "\n",
    "#launch samples\n",
    "for batch in batches:\n",
    "    if batch in [f'b1-{b}']:\n",
    "        continue\n",
    "        \n",
    "    IDS = ' '.join(batches[batch])\n",
    "            \n",
    "    binac2(tasks=THREADS, time='01-00', mem=16, name=f'{batch}_Quast', logdir=logdir, \n",
    "           todo=todo.format(BATCH=batch, IDS=IDS, THREADS=THREADS))"
   ]
  },
  {
   "cell_type": "code",
   "execution_count": 15,
   "id": "3c81902d-a7e1-46ad-9a0f-6974e638257b",
   "metadata": {},
   "outputs": [],
   "source": [
    "#!rm -r {WS}/SPAdes"
   ]
  },
  {
   "cell_type": "markdown",
   "id": "b624eb80-8ec1-419a-a7d2-8a307af2db58",
   "metadata": {},
   "source": [
    "# MAGs"
   ]
  },
  {
   "cell_type": "markdown",
   "id": "db2d8422-7455-4ade-968c-aee740ed36a1",
   "metadata": {},
   "source": [
    "## COMEbin\n",
    "#### Installation:\n",
    "1. In terminal:\n",
    "\n",
    "- conda create -n comebin_env -c conda-forge -c bioconda comebin\n",
    "\n",
    "2. Download \"print_comment.py\" and \"gen_cov_file.sh\" from their git, and put it to the folder \"Scripts\" (create if missing) in your $HOME directory.\n",
    "3. Open \"Scripts/gen_cov_file.sh\" and modify lines 59-60 to:\n",
    "- F_reads_suffix=_1.fq.gz\n",
    "- R_reads_suffix=_2.fq.gz\n"
   ]
  },
  {
   "cell_type": "code",
   "execution_count": 192,
   "id": "bd587e25-9c62-4a82-8ba2-035315d80037",
   "metadata": {
    "collapsed": true,
    "jupyter": {
     "outputs_hidden": true
    }
   },
   "outputs": [
    {
     "name": "stdout",
     "output_type": "stream",
     "text": [
      "Submitted batch job 125409\n",
      "Submitted batch job 125410\n",
      "Submitted batch job 125411\n",
      "Submitted batch job 125412\n",
      "Submitted batch job 125413\n",
      "Submitted batch job 125414\n",
      "Submitted batch job 125415\n",
      "Submitted batch job 125416\n",
      "Submitted batch job 125417\n",
      "Submitted batch job 125418\n",
      "Submitted batch job 125419\n",
      "Submitted batch job 125420\n",
      "Submitted batch job 125421\n",
      "Submitted batch job 125422\n",
      "Submitted batch job 125423\n",
      "Submitted batch job 125424\n",
      "Submitted batch job 125425\n",
      "Submitted batch job 125426\n",
      "Submitted batch job 125427\n",
      "Submitted batch job 125428\n",
      "Submitted batch job 125429\n",
      "Submitted batch job 125430\n",
      "Submitted batch job 125431\n",
      "Submitted batch job 125432\n",
      "Submitted batch job 125433\n",
      "Submitted batch job 125434\n",
      "Submitted batch job 125435\n",
      "Submitted batch job 125436\n",
      "Submitted batch job 125437\n",
      "Submitted batch job 125438\n",
      "Submitted batch job 125439\n"
     ]
    }
   ],
   "source": [
    "!chmod +rwx $BIN/*\n",
    "THREADS = 24\n",
    "RAM = 120\n",
    "logdir = f'{LOGS}/COMEbin'\n",
    "\n",
    "todo = '''\n",
    "conda activate comebin_env\n",
    "\n",
    "mkdir -p BAMS $PS/COMEbin\n",
    "\n",
    "echo \"Processing {BATCH}\"\n",
    "sras=({IDS})\n",
    "for name in ${{sras[@]}}; do\n",
    "    echo\n",
    "    echo \"############################################################\"\n",
    "    echo \"Processing $name \"\n",
    "    \n",
    "    echo \"Check if bins already binned or busy\" \n",
    "    if [ -d BAMS/$name ]; then\n",
    "        echo \"$name is busy. Skipping.\" \n",
    "        continue\n",
    "    elif [ -d $PS/COMEbin/$name ]; then\n",
    "        echo \"$name is busy or binned. Skipping.\" \n",
    "        continue\n",
    "    fi\n",
    "    echo \"$name is not binned. Attempting binning...\"\n",
    "    \n",
    "    CR1=$CR/${{name}}_1.fq.gz\n",
    "    CR2=$CR/${{name}}_2.fq.gz\n",
    "    ASS=$PS/SPAdes/${{name}}_scaffolds.fasta\n",
    "    BINS=$PS/COMEbin/$name\n",
    "\n",
    "    echo \"Preprocess\"\n",
    "    $BIN/gen_cov_file.sh -a $ASS -o BAMS/$name $CR1 $CR2 -m {RAM} -t {THREADS}\n",
    "    \n",
    "    echo \"Run COMEBin for bins\"\n",
    "    run_comebin.sh -a $ASS -o $BINS -p BAMS/$name/work_files -t {THREADS}\n",
    "done\n",
    "\n",
    "echo\n",
    "echo \"###############################################################\"\n",
    "echo \"###                   All done! Enjoy!                      ###\"\n",
    "echo \"### Citations:                                              ###\"\n",
    "echo \"### 1. COMEbin: https://doi.org/10.1038/s41467-023-44290-z  ###\"\n",
    "echo \"###############################################################\"   \n",
    "'''\n",
    "\n",
    "# Split your samples into batches for parallel execution (b - number of samples per batch).\n",
    "b = 5\n",
    "batches = {f'b{i+1}-{i+b}': cleans[i:i + b] for i in range(0, len(cleans), b)}\n",
    "\n",
    "#launch samples\n",
    "for batch in batches:\n",
    "    #if batch in [f'b1-{b}']:\n",
    "    #    continue\n",
    "        \n",
    "    IDS = ' '.join(batches[batch]) \n",
    "    binac2(tasks=THREADS, time='10-00', mem=RAM, name=f'{batch}_COMEbin', logdir=logdir, \n",
    "           todo=todo.format(BATCH=batch, IDS=IDS, THREADS=THREADS, RAM=RAM))"
   ]
  },
  {
   "cell_type": "code",
   "execution_count": 3,
   "id": "ede0bb61-7cc6-4635-be6c-1a3074e607fc",
   "metadata": {},
   "outputs": [
    {
     "name": "stdout",
     "output_type": "stream",
     "text": [
      "Total bins before dereplication: 35811\n"
     ]
    }
   ],
   "source": [
    "#check outputs \n",
    "\n",
    "total = 0\n",
    "for clean in cleans:\n",
    "    check = f'{PS}/COMEbin/{clean}/comebin_res/comebin_res_bins/0.fa'\n",
    "    if not os.path.exists(check):\n",
    "        print(\"Bins are not detected for sample:\", clean)\n",
    "        continue\n",
    "    files = [c for c in os.listdir(f'{PS}/COMEbin/{clean}/comebin_res/comebin_res_bins') if c.endswith('.fa')]\n",
    "    total += len(files)\n",
    "print('Total bins before dereplication:', total)"
   ]
  },
  {
   "cell_type": "markdown",
   "id": "99688fe8-a20a-43b9-a5a9-4327159b1205",
   "metadata": {},
   "source": [
    "## Evaluate bins with BUSCO"
   ]
  },
  {
   "cell_type": "markdown",
   "id": "d87f28ee-ebe7-477c-9c6a-153184040414",
   "metadata": {},
   "source": [
    "### Install BUSCO database"
   ]
  },
  {
   "cell_type": "code",
   "execution_count": 10,
   "id": "80ebfdb0-12ce-4a83-98a5-8aaadfc10191",
   "metadata": {},
   "outputs": [
    {
     "name": "stdout",
     "output_type": "stream",
     "text": [
      "Submitted batch job 128597\n"
     ]
    }
   ],
   "source": [
    "THREADS = 2\n",
    "logdir = f'{LOGS}/BUSCO'\n",
    "\n",
    "todo = '''\n",
    "conda activate qiime2-moshpit-2025.4\n",
    "\n",
    "busco --download bacteria_odb10\n",
    "\n",
    "mkdir -p $DB/BUSCO\n",
    "mv busco_downloads/lineages/bacteria_odb10 $DB/BUSCO\n",
    "rm -r busco_downloads\n",
    "'''\n",
    "\n",
    "binac2(tasks=THREADS, time='01-00', mem=8, name=f'BUSCO_db', logdir=logdir, todo=todo)"
   ]
  },
  {
   "cell_type": "markdown",
   "id": "e9825ce0-46e3-4c1f-a4b6-11bf2fa52de2",
   "metadata": {},
   "source": [
    "### Evaluate all bins assembled"
   ]
  },
  {
   "cell_type": "code",
   "execution_count": 22,
   "id": "8fef1b03-dd10-4e10-8cd5-56d7e4d31435",
   "metadata": {},
   "outputs": [
    {
     "name": "stdout",
     "output_type": "stream",
     "text": [
      "Submitted batch job 128601\n",
      "Submitted batch job 128602\n",
      "Submitted batch job 128603\n",
      "Submitted batch job 128604\n",
      "Submitted batch job 128605\n",
      "Submitted batch job 128606\n",
      "Submitted batch job 128607\n",
      "Submitted batch job 128608\n",
      "Submitted batch job 128609\n",
      "Submitted batch job 128610\n",
      "Submitted batch job 128611\n",
      "Submitted batch job 128612\n",
      "Submitted batch job 128613\n",
      "Submitted batch job 128614\n",
      "Submitted batch job 128615\n"
     ]
    }
   ],
   "source": [
    "THREADS = 12\n",
    "logdir = f'{LOGS}/BUSCO'\n",
    "\n",
    "todo = '''\n",
    "conda activate qiime2-moshpit-2025.4\n",
    "\n",
    "mkdir BUSCO\n",
    "echo \"Processing {BATCH}\"\n",
    "sras=({IDS})\n",
    "for name in ${{sras[@]}}; do\n",
    "    echo\n",
    "    echo \"############################################################\"\n",
    "    echo \"Processing $name \"\n",
    "\n",
    "    bins=$PS/COMEbin/$name/comebin_res/comebin_res_bins\n",
    "    busco -i $bins -m genome -c {THREADS} -o BUSCO/$name -l $DB/BUSCO/bacteria_odb10 --offline\n",
    "    \n",
    "done \n",
    "'''\n",
    "\n",
    "# Split your samples into batches for parallel execution (b - number of samples per batch).\n",
    "b = 10\n",
    "batches = {f'b{i+1}-{i+b}': cleans[i:i + b] for i in range(0, len(cleans), b)}\n",
    "\n",
    "#launch samples\n",
    "for batch in batches:\n",
    "    #if batch in [f'b1-{b}']:\n",
    "    #    continue\n",
    "        \n",
    "    IDS = ' '.join(batches[batch]) \n",
    "    binac2(tasks=THREADS, time='2-00', mem=64, name=f'{batch}_BUSCO', logdir=logdir, \n",
    "           todo=todo.format(BATCH=batch, IDS=IDS, THREADS=THREADS))"
   ]
  },
  {
   "cell_type": "code",
   "execution_count": 11,
   "id": "b56ce814-ac13-4f85-9d3f-d737dff54fe0",
   "metadata": {},
   "outputs": [],
   "source": [
    "#!rm -r $WS/busco_downloads"
   ]
  },
  {
   "cell_type": "markdown",
   "id": "d6411262-9910-4cca-aa62-472fe8815798",
   "metadata": {},
   "source": [
    "### Summarize BUSCO runs\n",
    "- completeness % = 100 x (1 - Missing / Total)\n",
    "- contamination % = 100 x Duplicated / Complete"
   ]
  },
  {
   "cell_type": "code",
   "execution_count": 103,
   "id": "2fe335c4-f584-4f61-97a5-662ed7b0c630",
   "metadata": {},
   "outputs": [
    {
     "data": {
      "text/html": [
       "<div>\n",
       "<style scoped>\n",
       "    .dataframe tbody tr th:only-of-type {\n",
       "        vertical-align: middle;\n",
       "    }\n",
       "\n",
       "    .dataframe tbody tr th {\n",
       "        vertical-align: top;\n",
       "    }\n",
       "\n",
       "    .dataframe thead th {\n",
       "        text-align: right;\n",
       "    }\n",
       "</style>\n",
       "<table border=\"1\" class=\"dataframe\">\n",
       "  <thead>\n",
       "    <tr style=\"text-align: right;\">\n",
       "      <th></th>\n",
       "      <th>Sample</th>\n",
       "      <th>MAG</th>\n",
       "      <th>Complete</th>\n",
       "      <th>Duplicated</th>\n",
       "      <th>Missing</th>\n",
       "      <th>Total</th>\n",
       "      <th>Completeness</th>\n",
       "      <th>Contamination</th>\n",
       "    </tr>\n",
       "  </thead>\n",
       "  <tbody>\n",
       "    <tr>\n",
       "      <th>0</th>\n",
       "      <td>K10_21</td>\n",
       "      <td>34576.fa</td>\n",
       "      <td>58</td>\n",
       "      <td>0</td>\n",
       "      <td>48</td>\n",
       "      <td>124</td>\n",
       "      <td>61.29</td>\n",
       "      <td>0.00</td>\n",
       "    </tr>\n",
       "    <tr>\n",
       "      <th>3</th>\n",
       "      <td>K10_21</td>\n",
       "      <td>45450.fa</td>\n",
       "      <td>53</td>\n",
       "      <td>5</td>\n",
       "      <td>50</td>\n",
       "      <td>124</td>\n",
       "      <td>59.68</td>\n",
       "      <td>9.43</td>\n",
       "    </tr>\n",
       "    <tr>\n",
       "      <th>4</th>\n",
       "      <td>K10_21</td>\n",
       "      <td>53844.fa</td>\n",
       "      <td>10</td>\n",
       "      <td>0</td>\n",
       "      <td>95</td>\n",
       "      <td>124</td>\n",
       "      <td>23.39</td>\n",
       "      <td>0.00</td>\n",
       "    </tr>\n",
       "    <tr>\n",
       "      <th>5</th>\n",
       "      <td>K10_21</td>\n",
       "      <td>6820.fa</td>\n",
       "      <td>79</td>\n",
       "      <td>2</td>\n",
       "      <td>40</td>\n",
       "      <td>124</td>\n",
       "      <td>67.74</td>\n",
       "      <td>2.53</td>\n",
       "    </tr>\n",
       "    <tr>\n",
       "      <th>6</th>\n",
       "      <td>K10_21</td>\n",
       "      <td>48052.fa</td>\n",
       "      <td>1</td>\n",
       "      <td>0</td>\n",
       "      <td>122</td>\n",
       "      <td>124</td>\n",
       "      <td>1.61</td>\n",
       "      <td>0.00</td>\n",
       "    </tr>\n",
       "    <tr>\n",
       "      <th>...</th>\n",
       "      <td>...</td>\n",
       "      <td>...</td>\n",
       "      <td>...</td>\n",
       "      <td>...</td>\n",
       "      <td>...</td>\n",
       "      <td>...</td>\n",
       "      <td>...</td>\n",
       "      <td>...</td>\n",
       "    </tr>\n",
       "    <tr>\n",
       "      <th>35805</th>\n",
       "      <td>k16_26</td>\n",
       "      <td>1582.fa</td>\n",
       "      <td>119</td>\n",
       "      <td>0</td>\n",
       "      <td>3</td>\n",
       "      <td>124</td>\n",
       "      <td>97.58</td>\n",
       "      <td>0.00</td>\n",
       "    </tr>\n",
       "    <tr>\n",
       "      <th>35806</th>\n",
       "      <td>k16_26</td>\n",
       "      <td>51283.fa</td>\n",
       "      <td>1</td>\n",
       "      <td>0</td>\n",
       "      <td>122</td>\n",
       "      <td>124</td>\n",
       "      <td>1.61</td>\n",
       "      <td>0.00</td>\n",
       "    </tr>\n",
       "    <tr>\n",
       "      <th>35807</th>\n",
       "      <td>k16_26</td>\n",
       "      <td>6711.fa</td>\n",
       "      <td>1</td>\n",
       "      <td>0</td>\n",
       "      <td>122</td>\n",
       "      <td>124</td>\n",
       "      <td>1.61</td>\n",
       "      <td>0.00</td>\n",
       "    </tr>\n",
       "    <tr>\n",
       "      <th>35808</th>\n",
       "      <td>k16_26</td>\n",
       "      <td>3804.fa</td>\n",
       "      <td>3</td>\n",
       "      <td>0</td>\n",
       "      <td>121</td>\n",
       "      <td>124</td>\n",
       "      <td>2.42</td>\n",
       "      <td>0.00</td>\n",
       "    </tr>\n",
       "    <tr>\n",
       "      <th>35810</th>\n",
       "      <td>k16_26</td>\n",
       "      <td>18874.fa</td>\n",
       "      <td>109</td>\n",
       "      <td>0</td>\n",
       "      <td>5</td>\n",
       "      <td>124</td>\n",
       "      <td>95.97</td>\n",
       "      <td>0.00</td>\n",
       "    </tr>\n",
       "  </tbody>\n",
       "</table>\n",
       "<p>29770 rows × 8 columns</p>\n",
       "</div>"
      ],
      "text/plain": [
       "       Sample       MAG Complete Duplicated Missing Total  Completeness  \\\n",
       "0      K10_21  34576.fa       58          0      48   124         61.29   \n",
       "3      K10_21  45450.fa       53          5      50   124         59.68   \n",
       "4      K10_21  53844.fa       10          0      95   124         23.39   \n",
       "5      K10_21   6820.fa       79          2      40   124         67.74   \n",
       "6      K10_21  48052.fa        1          0     122   124          1.61   \n",
       "...       ...       ...      ...        ...     ...   ...           ...   \n",
       "35805  k16_26   1582.fa      119          0       3   124         97.58   \n",
       "35806  k16_26  51283.fa        1          0     122   124          1.61   \n",
       "35807  k16_26   6711.fa        1          0     122   124          1.61   \n",
       "35808  k16_26   3804.fa        3          0     121   124          2.42   \n",
       "35810  k16_26  18874.fa      109          0       5   124         95.97   \n",
       "\n",
       "       Contamination  \n",
       "0               0.00  \n",
       "3               9.43  \n",
       "4               0.00  \n",
       "5               2.53  \n",
       "6               0.00  \n",
       "...              ...  \n",
       "35805           0.00  \n",
       "35806           0.00  \n",
       "35807           0.00  \n",
       "35808           0.00  \n",
       "35810           0.00  \n",
       "\n",
       "[29770 rows x 8 columns]"
      ]
     },
     "metadata": {},
     "output_type": "display_data"
    }
   ],
   "source": [
    "!mkdir -p {PS}/MAGs\n",
    "\n",
    "busco = pd.DataFrame()\n",
    "cols = ['Sample', 'MAG', 'Complete', 'Duplicated', 'Missing', 'Total']\n",
    "for clean in cleans:\n",
    "    with open(f\"{WS}/BUSCO/{clean}/logs/busco.log\", 'r') as batch:\n",
    "        log = batch.read().split('Running BUSCO on file: ')[1:]\n",
    "        for l in log:\n",
    "            sample = l.split('COMEbin/')[-1].split('/')[0]\n",
    "            mag = l.split('comebin_res_bins/')[-1].split('\\n')[0]\n",
    "            mis = l.split('(F)')[-1].split('Missing')[0].strip(' \\n|')\n",
    "            tot = l.split('(M)')[-1].split('Total')[0].strip(' \\n|')\n",
    "            dup = l.split('(S)')[-1].split('Complete')[0].strip(' \\n|')\n",
    "            com = l.split('Complete BUSCOs (C)')[0].split('|')[-1].strip(' \\n|')\n",
    "            busco.loc[len(busco), cols] = sample, mag, int(com), int(dup), int(mis), int(tot)\n",
    "\n",
    "busco = busco.loc[(busco.Total > 0) & (busco.Complete > 0)]\n",
    "busco['Completeness'] = 100 * (1 - busco.Missing/busco.Total)\n",
    "busco['Contamination'] = 100 * busco.Duplicated/busco.Complete\n",
    "busco['Completeness'] = busco.Completeness.astype(float).round(2)\n",
    "busco['Contamination'] = busco.Contamination.astype(float).round(2)\n",
    "busco.to_csv(f'{PS}/MAGs/busco_summary.tsv', sep='\\t')\n",
    "display(busco)"
   ]
  },
  {
   "cell_type": "markdown",
   "id": "365f2cbb-0c21-4aa5-b5af-ed2e2113d2bf",
   "metadata": {},
   "source": [
    "## Pool MAGs (good quality bins)"
   ]
  },
  {
   "cell_type": "markdown",
   "id": "77a3612b-f0aa-46bc-9329-13431ff33f36",
   "metadata": {},
   "source": [
    "### Select bins\n",
    "#### You can modify completeness and contamination thresholds.\n",
    "- cm - completeness threshold. Only bins with at least this value will be analysed.\n",
    "- ct - contamination threshold- Only bins with contamination less that this value will be analysed."
   ]
  },
  {
   "cell_type": "code",
   "execution_count": 22,
   "id": "fc0551b9-c8bb-4b4a-9be0-a7ae4c9e5561",
   "metadata": {},
   "outputs": [
    {
     "name": "stdout",
     "output_type": "stream",
     "text": [
      "12388 MAGs/bins with competeness >= 50 and contamination <= 20\n"
     ]
    }
   ],
   "source": [
    "cm = 50 #completeness\n",
    "ct = 20 #contamination\n",
    "busco = pd.read_csv(f'{PS}/MAGs/busco_summary.tsv', sep='\\t', index_col=0)\n",
    "good = busco.loc[(busco.Completeness >= cm) & (busco.Contamination <= ct)]\n",
    "print(f'{len(good)} MAGs/bins with competeness >= {cm} and contamination < {ct}')\n",
    "for clean in cleans:\n",
    "    df = good.loc[good.Sample == clean]\n",
    "    with open(f'{PS}/COMEbin/{clean}/good', 'w') as file:\n",
    "        file.write('\\n'.join(df.MAG.tolist()))\n",
    "good.to_csv(f'{PS}/MAGs/busco_summary_good.tsv', sep='\\t')"
   ]
  },
  {
   "cell_type": "markdown",
   "id": "5533dc46-5c95-43a6-a2cc-86fae936393b",
   "metadata": {},
   "source": [
    "### Copy selected bins"
   ]
  },
  {
   "cell_type": "code",
   "execution_count": 15,
   "id": "236bdbf1-b27b-4096-a071-9f6f006487b5",
   "metadata": {},
   "outputs": [
    {
     "name": "stdout",
     "output_type": "stream",
     "text": [
      "Submitted batch job 130961\n",
      "Submitted batch job 130962\n",
      "Submitted batch job 130963\n",
      "Submitted batch job 130964\n",
      "Submitted batch job 130965\n",
      "Submitted batch job 130966\n",
      "Submitted batch job 130967\n",
      "Submitted batch job 130968\n",
      "Submitted batch job 130969\n",
      "Submitted batch job 130970\n",
      "Submitted batch job 130971\n",
      "Submitted batch job 130972\n",
      "Submitted batch job 130973\n",
      "Submitted batch job 130974\n",
      "Submitted batch job 130975\n",
      "Submitted batch job 130976\n"
     ]
    }
   ],
   "source": [
    "THREADS = 2\n",
    "logdir = f'{LOGS}/Pool_bins'\n",
    "\n",
    "todo = '''\n",
    "pooled=$PS/Bins_pooled\n",
    "\n",
    "echo \"Processing {BATCH}\"\n",
    "sras=({IDS})\n",
    "for name in ${{sras[@]}}; do\n",
    "    echo\n",
    "    echo \"############################################################\"\n",
    "    echo \"Processing $name \"\n",
    "\n",
    "    mkdir -p $pooled/$name\n",
    "    bins=$PS/COMEbin/$name/comebin_res/comebin_res_bins\n",
    "    rsync -a $bins --files-from=$bins/../../good $pooled/$name\n",
    "    cd $pooled/$name\n",
    "    for fa in ./*.fa; do\n",
    "        f=$(basename $fa)\n",
    "        mv $fa ${{name}}_${{f}}\n",
    "    done\n",
    "    \n",
    "done \n",
    "'''\n",
    "\n",
    "# Split your samples into batches for parallel execution (b - number of samples per batch).\n",
    "b = 10\n",
    "batches = {f'b{i+1}-{i+b}': cleans[i:i + b] for i in range(0, len(cleans), b)}\n",
    "\n",
    "#launch samples\n",
    "for batch in batches:\n",
    "    #if batch in f'b1-{b}']:\n",
    "    #    continue\n",
    "     \n",
    "    IDS = ' '.join(batches[batch])\n",
    "    binac2(tasks=THREADS, time='1-00', mem=8, name=f'{batch}_cp_bins', logdir=logdir, \n",
    "           todo=todo.format(BATCH=batch, IDS=IDS))"
   ]
  },
  {
   "cell_type": "code",
   "execution_count": 21,
   "id": "db488f94-dfd6-4298-afaf-2beefda1e448",
   "metadata": {},
   "outputs": [
    {
     "name": "stdout",
     "output_type": "stream",
     "text": [
      "Total retained bins/MAGs, pooled: 12388\n"
     ]
    }
   ],
   "source": [
    "# Should be equal to the number of selected bins in \"Select bins\" cell output\n",
    "\n",
    "files = []\n",
    "for folder in os.listdir(f'{PS}/Bins_pooled/'):\n",
    "    if not folder.startswith('.'):\n",
    "        [files.append(c) for c in os.listdir(f'{PS}/Bins_pooled/{folder}/') if c.endswith('.fa')]\n",
    "    \n",
    "print('Total retained bins/MAGs, pooled:', len(files))"
   ]
  },
  {
   "cell_type": "code",
   "execution_count": 14,
   "id": "42aba565-5073-4087-b8b5-3d5053b87115",
   "metadata": {},
   "outputs": [],
   "source": [
    "#!rm -r $PS/Bins_pooled"
   ]
  },
  {
   "cell_type": "markdown",
   "id": "8d344cc1-c663-4519-9e46-1b63b985cad8",
   "metadata": {},
   "source": [
    "## Import bins to Qiime2"
   ]
  },
  {
   "cell_type": "markdown",
   "id": "f3fd29b1-837a-4714-8a7a-bd0d9ce981e7",
   "metadata": {},
   "source": [
    "### Manifest and renaming bins according UUID4 convention"
   ]
  },
  {
   "cell_type": "code",
   "execution_count": 4,
   "id": "1d89c6b0-b421-4617-bec6-8ca43a7b9adc",
   "metadata": {},
   "outputs": [
    {
     "data": {
      "text/html": [
       "<div>\n",
       "<style scoped>\n",
       "    .dataframe tbody tr th:only-of-type {\n",
       "        vertical-align: middle;\n",
       "    }\n",
       "\n",
       "    .dataframe tbody tr th {\n",
       "        vertical-align: top;\n",
       "    }\n",
       "\n",
       "    .dataframe thead th {\n",
       "        text-align: right;\n",
       "    }\n",
       "</style>\n",
       "<table border=\"1\" class=\"dataframe\">\n",
       "  <thead>\n",
       "    <tr style=\"text-align: right;\">\n",
       "      <th></th>\n",
       "      <th>sample-id</th>\n",
       "      <th>mag-id</th>\n",
       "      <th>filename</th>\n",
       "    </tr>\n",
       "  </thead>\n",
       "  <tbody>\n",
       "    <tr>\n",
       "      <th>0</th>\n",
       "      <td>K10_21</td>\n",
       "      <td>67ef6e7a-82dd-452b-8ad7-b6dd16230569</td>\n",
       "      <td>K10_21/67ef6e7a-82dd-452b-8ad7-b6dd16230569.fasta</td>\n",
       "    </tr>\n",
       "    <tr>\n",
       "      <th>1</th>\n",
       "      <td>K10_21</td>\n",
       "      <td>93b36881-56d0-4e2b-80dc-37b61f8b4f06</td>\n",
       "      <td>K10_21/93b36881-56d0-4e2b-80dc-37b61f8b4f06.fasta</td>\n",
       "    </tr>\n",
       "    <tr>\n",
       "      <th>2</th>\n",
       "      <td>K10_21</td>\n",
       "      <td>16570994-a950-49e0-a213-851a6508f8cd</td>\n",
       "      <td>K10_21/16570994-a950-49e0-a213-851a6508f8cd.fasta</td>\n",
       "    </tr>\n",
       "    <tr>\n",
       "      <th>3</th>\n",
       "      <td>K10_21</td>\n",
       "      <td>3c597cd4-1d0d-4004-bee0-5de4749d9abc</td>\n",
       "      <td>K10_21/3c597cd4-1d0d-4004-bee0-5de4749d9abc.fasta</td>\n",
       "    </tr>\n",
       "    <tr>\n",
       "      <th>4</th>\n",
       "      <td>K10_21</td>\n",
       "      <td>3cc3a4b9-b996-449f-9ef4-f82190ec969c</td>\n",
       "      <td>K10_21/3cc3a4b9-b996-449f-9ef4-f82190ec969c.fasta</td>\n",
       "    </tr>\n",
       "    <tr>\n",
       "      <th>...</th>\n",
       "      <td>...</td>\n",
       "      <td>...</td>\n",
       "      <td>...</td>\n",
       "    </tr>\n",
       "    <tr>\n",
       "      <th>12383</th>\n",
       "      <td>k16_26</td>\n",
       "      <td>2d3f236e-a3c1-401f-ab5f-867c3c6294f3</td>\n",
       "      <td>k16_26/2d3f236e-a3c1-401f-ab5f-867c3c6294f3.fasta</td>\n",
       "    </tr>\n",
       "    <tr>\n",
       "      <th>12384</th>\n",
       "      <td>k16_26</td>\n",
       "      <td>72974340-62a7-40bf-83f6-a103b01b45f1</td>\n",
       "      <td>k16_26/72974340-62a7-40bf-83f6-a103b01b45f1.fasta</td>\n",
       "    </tr>\n",
       "    <tr>\n",
       "      <th>12385</th>\n",
       "      <td>k16_26</td>\n",
       "      <td>b07780c6-d70a-4204-a569-18e11121e03a</td>\n",
       "      <td>k16_26/b07780c6-d70a-4204-a569-18e11121e03a.fasta</td>\n",
       "    </tr>\n",
       "    <tr>\n",
       "      <th>12386</th>\n",
       "      <td>k16_26</td>\n",
       "      <td>0efbf568-a888-4d4e-bef3-c0e45182495f</td>\n",
       "      <td>k16_26/0efbf568-a888-4d4e-bef3-c0e45182495f.fasta</td>\n",
       "    </tr>\n",
       "    <tr>\n",
       "      <th>12387</th>\n",
       "      <td>k16_26</td>\n",
       "      <td>0b197163-e317-4af4-a08d-bf8b7293bb72</td>\n",
       "      <td>k16_26/0b197163-e317-4af4-a08d-bf8b7293bb72.fasta</td>\n",
       "    </tr>\n",
       "  </tbody>\n",
       "</table>\n",
       "<p>12388 rows × 3 columns</p>\n",
       "</div>"
      ],
      "text/plain": [
       "      sample-id                                mag-id  \\\n",
       "0        K10_21  67ef6e7a-82dd-452b-8ad7-b6dd16230569   \n",
       "1        K10_21  93b36881-56d0-4e2b-80dc-37b61f8b4f06   \n",
       "2        K10_21  16570994-a950-49e0-a213-851a6508f8cd   \n",
       "3        K10_21  3c597cd4-1d0d-4004-bee0-5de4749d9abc   \n",
       "4        K10_21  3cc3a4b9-b996-449f-9ef4-f82190ec969c   \n",
       "...         ...                                   ...   \n",
       "12383    k16_26  2d3f236e-a3c1-401f-ab5f-867c3c6294f3   \n",
       "12384    k16_26  72974340-62a7-40bf-83f6-a103b01b45f1   \n",
       "12385    k16_26  b07780c6-d70a-4204-a569-18e11121e03a   \n",
       "12386    k16_26  0efbf568-a888-4d4e-bef3-c0e45182495f   \n",
       "12387    k16_26  0b197163-e317-4af4-a08d-bf8b7293bb72   \n",
       "\n",
       "                                                filename  \n",
       "0      K10_21/67ef6e7a-82dd-452b-8ad7-b6dd16230569.fasta  \n",
       "1      K10_21/93b36881-56d0-4e2b-80dc-37b61f8b4f06.fasta  \n",
       "2      K10_21/16570994-a950-49e0-a213-851a6508f8cd.fasta  \n",
       "3      K10_21/3c597cd4-1d0d-4004-bee0-5de4749d9abc.fasta  \n",
       "4      K10_21/3cc3a4b9-b996-449f-9ef4-f82190ec969c.fasta  \n",
       "...                                                  ...  \n",
       "12383  k16_26/2d3f236e-a3c1-401f-ab5f-867c3c6294f3.fasta  \n",
       "12384  k16_26/72974340-62a7-40bf-83f6-a103b01b45f1.fasta  \n",
       "12385  k16_26/b07780c6-d70a-4204-a569-18e11121e03a.fasta  \n",
       "12386  k16_26/0efbf568-a888-4d4e-bef3-c0e45182495f.fasta  \n",
       "12387  k16_26/0b197163-e317-4af4-a08d-bf8b7293bb72.fasta  \n",
       "\n",
       "[12388 rows x 3 columns]"
      ]
     },
     "metadata": {},
     "output_type": "display_data"
    },
    {
     "data": {
      "text/html": [
       "<div>\n",
       "<style scoped>\n",
       "    .dataframe tbody tr th:only-of-type {\n",
       "        vertical-align: middle;\n",
       "    }\n",
       "\n",
       "    .dataframe tbody tr th {\n",
       "        vertical-align: top;\n",
       "    }\n",
       "\n",
       "    .dataframe thead th {\n",
       "        text-align: right;\n",
       "    }\n",
       "</style>\n",
       "<table border=\"1\" class=\"dataframe\">\n",
       "  <thead>\n",
       "    <tr style=\"text-align: right;\">\n",
       "      <th></th>\n",
       "      <th>Sample</th>\n",
       "      <th>MAG</th>\n",
       "      <th>Complete</th>\n",
       "      <th>Duplicated</th>\n",
       "      <th>Missing</th>\n",
       "      <th>Total</th>\n",
       "      <th>Completeness</th>\n",
       "      <th>Contamination</th>\n",
       "      <th>MAG_UUID4</th>\n",
       "    </tr>\n",
       "  </thead>\n",
       "  <tbody>\n",
       "    <tr>\n",
       "      <th>0</th>\n",
       "      <td>K10_21</td>\n",
       "      <td>34576.fa</td>\n",
       "      <td>58</td>\n",
       "      <td>0</td>\n",
       "      <td>48</td>\n",
       "      <td>124</td>\n",
       "      <td>61.29</td>\n",
       "      <td>0.00</td>\n",
       "      <td>014d8763-2f77-41f3-8152-a2dc66feed48</td>\n",
       "    </tr>\n",
       "    <tr>\n",
       "      <th>3</th>\n",
       "      <td>K10_21</td>\n",
       "      <td>45450.fa</td>\n",
       "      <td>53</td>\n",
       "      <td>5</td>\n",
       "      <td>50</td>\n",
       "      <td>124</td>\n",
       "      <td>59.68</td>\n",
       "      <td>9.43</td>\n",
       "      <td>aa91a51d-77e3-4a3a-8dad-d2b2a15171d6</td>\n",
       "    </tr>\n",
       "    <tr>\n",
       "      <th>5</th>\n",
       "      <td>K10_21</td>\n",
       "      <td>6820.fa</td>\n",
       "      <td>79</td>\n",
       "      <td>2</td>\n",
       "      <td>40</td>\n",
       "      <td>124</td>\n",
       "      <td>67.74</td>\n",
       "      <td>2.53</td>\n",
       "      <td>7ed0fe7f-52ed-4771-b3ce-169e10c9b45f</td>\n",
       "    </tr>\n",
       "    <tr>\n",
       "      <th>8</th>\n",
       "      <td>K10_21</td>\n",
       "      <td>19559.fa</td>\n",
       "      <td>75</td>\n",
       "      <td>1</td>\n",
       "      <td>36</td>\n",
       "      <td>124</td>\n",
       "      <td>70.97</td>\n",
       "      <td>1.33</td>\n",
       "      <td>d9838e66-b6cf-44c1-a0a0-6bf9c3e6cd7d</td>\n",
       "    </tr>\n",
       "    <tr>\n",
       "      <th>12</th>\n",
       "      <td>K10_21</td>\n",
       "      <td>2224.fa</td>\n",
       "      <td>83</td>\n",
       "      <td>1</td>\n",
       "      <td>34</td>\n",
       "      <td>124</td>\n",
       "      <td>72.58</td>\n",
       "      <td>1.20</td>\n",
       "      <td>a9a506be-18eb-4024-a1f7-3a1a7a1727e8</td>\n",
       "    </tr>\n",
       "    <tr>\n",
       "      <th>...</th>\n",
       "      <td>...</td>\n",
       "      <td>...</td>\n",
       "      <td>...</td>\n",
       "      <td>...</td>\n",
       "      <td>...</td>\n",
       "      <td>...</td>\n",
       "      <td>...</td>\n",
       "      <td>...</td>\n",
       "      <td>...</td>\n",
       "    </tr>\n",
       "    <tr>\n",
       "      <th>35786</th>\n",
       "      <td>k16_26</td>\n",
       "      <td>2149.fa</td>\n",
       "      <td>112</td>\n",
       "      <td>3</td>\n",
       "      <td>10</td>\n",
       "      <td>124</td>\n",
       "      <td>91.94</td>\n",
       "      <td>2.68</td>\n",
       "      <td>5b16aff9-a851-48cd-b047-27482aa4f998</td>\n",
       "    </tr>\n",
       "    <tr>\n",
       "      <th>35787</th>\n",
       "      <td>k16_26</td>\n",
       "      <td>17160.fa</td>\n",
       "      <td>48</td>\n",
       "      <td>1</td>\n",
       "      <td>62</td>\n",
       "      <td>124</td>\n",
       "      <td>50.00</td>\n",
       "      <td>2.08</td>\n",
       "      <td>50a74398-7a90-426a-bc95-5ae0850465a0</td>\n",
       "    </tr>\n",
       "    <tr>\n",
       "      <th>35790</th>\n",
       "      <td>k16_26</td>\n",
       "      <td>16892.fa</td>\n",
       "      <td>111</td>\n",
       "      <td>1</td>\n",
       "      <td>8</td>\n",
       "      <td>124</td>\n",
       "      <td>93.55</td>\n",
       "      <td>0.90</td>\n",
       "      <td>2045d469-1406-444c-885c-ce1e604e2886</td>\n",
       "    </tr>\n",
       "    <tr>\n",
       "      <th>35805</th>\n",
       "      <td>k16_26</td>\n",
       "      <td>1582.fa</td>\n",
       "      <td>119</td>\n",
       "      <td>0</td>\n",
       "      <td>3</td>\n",
       "      <td>124</td>\n",
       "      <td>97.58</td>\n",
       "      <td>0.00</td>\n",
       "      <td>b2225b73-2e56-4f59-941b-4303f89cbfbd</td>\n",
       "    </tr>\n",
       "    <tr>\n",
       "      <th>35810</th>\n",
       "      <td>k16_26</td>\n",
       "      <td>18874.fa</td>\n",
       "      <td>109</td>\n",
       "      <td>0</td>\n",
       "      <td>5</td>\n",
       "      <td>124</td>\n",
       "      <td>95.97</td>\n",
       "      <td>0.00</td>\n",
       "      <td>2d164b79-1c3b-43dd-88a3-eec054112ea9</td>\n",
       "    </tr>\n",
       "  </tbody>\n",
       "</table>\n",
       "<p>12388 rows × 9 columns</p>\n",
       "</div>"
      ],
      "text/plain": [
       "       Sample       MAG  Complete  Duplicated  Missing  Total  Completeness  \\\n",
       "0      K10_21  34576.fa        58           0       48    124         61.29   \n",
       "3      K10_21  45450.fa        53           5       50    124         59.68   \n",
       "5      K10_21   6820.fa        79           2       40    124         67.74   \n",
       "8      K10_21  19559.fa        75           1       36    124         70.97   \n",
       "12     K10_21   2224.fa        83           1       34    124         72.58   \n",
       "...       ...       ...       ...         ...      ...    ...           ...   \n",
       "35786  k16_26   2149.fa       112           3       10    124         91.94   \n",
       "35787  k16_26  17160.fa        48           1       62    124         50.00   \n",
       "35790  k16_26  16892.fa       111           1        8    124         93.55   \n",
       "35805  k16_26   1582.fa       119           0        3    124         97.58   \n",
       "35810  k16_26  18874.fa       109           0        5    124         95.97   \n",
       "\n",
       "       Contamination                             MAG_UUID4  \n",
       "0               0.00  014d8763-2f77-41f3-8152-a2dc66feed48  \n",
       "3               9.43  aa91a51d-77e3-4a3a-8dad-d2b2a15171d6  \n",
       "5               2.53  7ed0fe7f-52ed-4771-b3ce-169e10c9b45f  \n",
       "8               1.33  d9838e66-b6cf-44c1-a0a0-6bf9c3e6cd7d  \n",
       "12              1.20  a9a506be-18eb-4024-a1f7-3a1a7a1727e8  \n",
       "...              ...                                   ...  \n",
       "35786           2.68  5b16aff9-a851-48cd-b047-27482aa4f998  \n",
       "35787           2.08  50a74398-7a90-426a-bc95-5ae0850465a0  \n",
       "35790           0.90  2045d469-1406-444c-885c-ce1e604e2886  \n",
       "35805           0.00  b2225b73-2e56-4f59-941b-4303f89cbfbd  \n",
       "35810           0.00  2d164b79-1c3b-43dd-88a3-eec054112ea9  \n",
       "\n",
       "[12388 rows x 9 columns]"
      ]
     },
     "metadata": {},
     "output_type": "display_data"
    }
   ],
   "source": [
    "good = pd.read_csv(f'{PS}/MAGs/busco_summary_good.tsv', sep='\\t', index_col=0)\n",
    "mf = pd.DataFrame()\n",
    "for clean in cleans:\n",
    "    path = f'{PS}/Bins_pooled/{clean}/'\n",
    "    for mag in os.listdir(path):\n",
    "        if mag.endswith('.fa'):\n",
    "            random = uuid4()\n",
    "            sample, file = mag.rsplit('_', 1)\n",
    "            os.rename(os.path.join(path, mag), os.path.join(path, f'{random}.fasta'))\n",
    "            good.loc[((good['Sample'] == sample) & (good['MAG'] == file)), 'MAG_UUID4'] = random\n",
    "            mf.loc[len(mf), ['sample-id', 'mag-id', 'filename']] = clean, random, f'{clean}/{random}.fasta'\n",
    "\n",
    "mf.to_csv(f'{PS}/Bins_pooled/MANIFEST', index=False)\n",
    "good.to_csv(f'{PS}/MAGs/busco_summary_good.tsv', sep='\\t')\n",
    "display(mf, good)"
   ]
  },
  {
   "cell_type": "markdown",
   "id": "9470eaeb-b783-4c27-a48a-60afd5c39f47",
   "metadata": {},
   "source": [
    "### Import"
   ]
  },
  {
   "cell_type": "code",
   "execution_count": 5,
   "id": "a89c2ec0-45eb-4551-ae5d-95705dd869b7",
   "metadata": {},
   "outputs": [
    {
     "name": "stdout",
     "output_type": "stream",
     "text": [
      "Submitted batch job 130990\n"
     ]
    }
   ],
   "source": [
    "THREADS = 2\n",
    "logdir = f'{LOGS}/Q2'\n",
    "\n",
    "todo = '''\n",
    "conda activate qiime2-moshpit-2025.4\n",
    "\n",
    "rm -r $PS/Bins_pooled/.ipynb_* $PS/Bins_pooled/*/.ipynb_*\n",
    "\n",
    "qiime tools cache-import \\\n",
    "    --type 'SampleData[MAGs]' \\\n",
    "    --input-path $PS/Bins_pooled \\\n",
    "    --input-format 'MultiMAGSequencesDirFmt' \\\n",
    "    --cache ./cache \\\n",
    "    --key 'pooled_bins'\n",
    "'''\n",
    "\n",
    "binac2(tasks=THREADS, time='02-00', mem=16, name=f'MAGs_Q2_imp', logdir=logdir, todo=todo)"
   ]
  },
  {
   "cell_type": "markdown",
   "id": "40bced25-6784-4734-a561-124a6955c684",
   "metadata": {},
   "source": [
    "## Dereplicate MAGs"
   ]
  },
  {
   "cell_type": "code",
   "execution_count": 6,
   "id": "ab2dcf8a-d900-492d-b350-3773c2e5d33e",
   "metadata": {},
   "outputs": [
    {
     "name": "stdout",
     "output_type": "stream",
     "text": [
      "Submitted batch job 130991\n"
     ]
    }
   ],
   "source": [
    "THREADS = 12\n",
    "logdir = f'{LOGS}/Q2'\n",
    "\n",
    "todo = '''\n",
    "conda activate qiime2-moshpit-2025.4\n",
    "\n",
    "#compute minhashes\n",
    "qiime sourmash compute \\\n",
    "    --i-sequence-file ./cache:pooled_bins \\\n",
    "    --p-ksizes 35 \\\n",
    "    --p-scaled 10 \\\n",
    "    --o-min-hash-signature ./cache:mags_minhash \\\n",
    "    --verbose\n",
    "\n",
    "#compare minhashes\n",
    "qiime sourmash compare \\\n",
    "    --i-min-hash-signature ./cache:mags_minhash \\\n",
    "    --p-ksize 35 \\\n",
    "    --o-compare-output ./cache:mags_dist_matrix \\\n",
    "    --verbose\n",
    "\n",
    "#dereplicate MAGs\n",
    "qiime annotate dereplicate-mags \\\n",
    "    --i-mags ./cache:pooled_bins \\\n",
    "    --i-distance-matrix ./cache:mags_dist_matrix \\\n",
    "    --p-threshold 0.99 \\\n",
    "    --o-dereplicated-mags $PS/MAGs/derep_mags.qza \\\n",
    "    --o-table $PS/MAGs/derep_mags_table.qza \\\n",
    "    --verbose\n",
    "\n",
    "qiime feature-table summarize \\\n",
    "    --i-table $PS/MAGs/derep_mags_table.qza \\\n",
    "    --o-visualization $PS/MAGs/derep_mags_table.qzv\n",
    "'''\n",
    "\n",
    "binac2(tasks=THREADS, time='10-00', mem=120, name=f'MAGs_dereplicate', logdir=logdir, todo=todo)"
   ]
  },
  {
   "cell_type": "code",
   "execution_count": 28,
   "id": "edca95aa-1b9f-4bbc-a489-33dc0ee613f8",
   "metadata": {},
   "outputs": [],
   "source": [
    "!rm -r $PS/MAGs_Test"
   ]
  },
  {
   "cell_type": "markdown",
   "id": "10b969fe-7d33-45c6-9e62-6f672e8e57c1",
   "metadata": {},
   "source": [
    "## MAGs taxonomy"
   ]
  },
  {
   "cell_type": "code",
   "execution_count": 2,
   "id": "83559df5-751a-41b4-8326-39c604199685",
   "metadata": {},
   "outputs": [
    {
     "name": "stdout",
     "output_type": "stream",
     "text": [
      "Submitted batch job 317892\n"
     ]
    }
   ],
   "source": [
    "THREADS = 24\n",
    "logdir = f'{LOGS}/Q2'\n",
    "\n",
    "todo = '''\n",
    "conda activate qiime2-moshpit-2025.4\n",
    "\n",
    "#taxonomy with kraken2\n",
    "qiime annotate classify-kraken2 \\\n",
    "    --i-seqs $PS/MAGs/derep_mags.qza \\\n",
    "    --i-db $DB/{K2DB}/kraken2.qza \\\n",
    "    --p-threads {THREADS} \\\n",
    "    --p-confidence 0.1 \\\n",
    "    --p-report-minimizer-data \\\n",
    "    --o-reports ./cache:kraken_reports_mags_derep \\\n",
    "    --o-outputs ./cache:kraken_hits_mags_derep \\\n",
    "    --verbose\n",
    "    \n",
    "#convert to q2 taxonomy\n",
    "qiime annotate kraken2-to-mag-features \\\n",
    "    --i-reports ./cache:kraken_reports_mags_derep  \\\n",
    "    --i-outputs ./cache:kraken_hits_mags_derep  \\\n",
    "    --o-taxonomy $PS/Taxonomy/taxonomy_mags.qza \\\n",
    "    --verbose\n",
    "'''\n",
    "\n",
    "binac2(tasks=THREADS, time='03-00', mem=120, name=f'MAGs_taxonomy', logdir=logdir, \n",
    "       todo=todo.format(THREADS=THREADS))"
   ]
  },
  {
   "cell_type": "markdown",
   "id": "2b2f4050-7d94-4147-84db-231d60519e20",
   "metadata": {},
   "source": [
    "### ATTENTION!\n",
    "If you got an error at MAG taxonomy step \"['r1__cellular organisms'] not in index\", then run this cell."
   ]
  },
  {
   "cell_type": "code",
   "execution_count": 29,
   "id": "f1d77410-ef69-47dd-9f3b-a2f9e0ae3631",
   "metadata": {},
   "outputs": [
    {
     "name": "stdout",
     "output_type": "stream",
     "text": [
      "Submitted batch job 443004\n"
     ]
    }
   ],
   "source": [
    "with open(f\"{WS}/cache/keys/kraken_reports_mags_derep\") as txt:\n",
    "    key = txt.read().split(' ', 1)[-1].split('\\n')[0]\n",
    "    loc = f\"{WS}/cache/data/{key}/data\"\n",
    "    \n",
    "clean = !rm -r {WS}/cache/*/*/*/.ipynb* {WS}/cache/*/*/.ipynb* {WS}/cache/*/.ipynb* {WS}/cache/.ipynb*\n",
    "\n",
    "for rep in os.listdir(f\"{WS}/cache/data/{key}/data\"):\n",
    "    with open(f\"{loc}/{rep}\") as report:\n",
    "        report = report.read()\n",
    "        if \"cellular organisms\" in report and len(report.split('\\n')) == 4:\n",
    "            !rm {loc}/{rep}\n",
    "\n",
    "THREADS = 8\n",
    "logdir = f'{LOGS}/Q2'\n",
    "\n",
    "todo = '''\n",
    "conda activate qiime2-moshpit-2025.4\n",
    "    \n",
    "#convert to q2 taxonomy\n",
    "qiime annotate kraken2-to-mag-features \\\n",
    "    --i-reports ./cache:kraken_reports_mags_derep  \\\n",
    "    --i-outputs ./cache:kraken_hits_mags_derep  \\\n",
    "    --o-taxonomy $PS/Taxonomy/taxonomy_mags.qza \\\n",
    "    --verbose\n",
    "'''\n",
    "\n",
    "binac2(tasks=THREADS, time='01-00', mem=32, name=f'MAGs_taxonomy_fix', logdir=logdir, \n",
    "       todo=todo.format(THREADS=THREADS))"
   ]
  },
  {
   "cell_type": "markdown",
   "id": "c81667bc-d688-44d7-a804-c64f7231f221",
   "metadata": {},
   "source": [
    "## MAG abundances"
   ]
  },
  {
   "cell_type": "markdown",
   "id": "60218d16-3752-4bf3-a882-a7e21ab23ed6",
   "metadata": {},
   "source": [
    "### Export dereplicated MAGs"
   ]
  },
  {
   "cell_type": "code",
   "execution_count": 31,
   "id": "2e4b09ab-aa83-4e87-97ca-e32a77cd02f4",
   "metadata": {},
   "outputs": [
    {
     "name": "stdout",
     "output_type": "stream",
     "text": [
      "Submitted batch job 443006\n"
     ]
    }
   ],
   "source": [
    "THREADS = 2\n",
    "logdir = f'{LOGS}/Q2'\n",
    "\n",
    "todo = '''\n",
    "conda activate qiime2-moshpit-2025.4\n",
    "\n",
    "mkdir -p $PS/MAGs/Exported\n",
    "qiime tools export \\\n",
    "    --input-path $PS/MAGs/derep_mags.qza \\\n",
    "    --output-path $PS/MAGs/Exported\n",
    "'''\n",
    "\n",
    "binac2(tasks=THREADS, time='01-00', mem=16, name=f'Derep_MAGs_export', logdir=logdir, todo=todo)"
   ]
  },
  {
   "cell_type": "code",
   "execution_count": 30,
   "id": "5c13b5a8-eef3-4d87-97bc-1ab11cc5e718",
   "metadata": {},
   "outputs": [],
   "source": [
    "#!rm -r $PS/MAGs/Exported {PS}/MAGs/Filtered_out"
   ]
  },
  {
   "cell_type": "markdown",
   "id": "eb73adaa-b42c-4c8a-948b-ea6d68d2f4c9",
   "metadata": {},
   "source": [
    "### Filter based on taxonomy (optional)\n",
    "There are some MAGs that unassigned to bacteria or archaea and can be the residues of the host or feed DNA. They lead to the high presence of functions that are not of microbial origin. Interpretaton of such functions can be misleading."
   ]
  },
  {
   "cell_type": "markdown",
   "id": "bd212905-4f75-4615-9603-d2c53efead1c",
   "metadata": {},
   "source": [
    "#### Export taxonomy"
   ]
  },
  {
   "cell_type": "code",
   "execution_count": 41,
   "id": "42c7f5df-108b-443e-a830-c46a4817c33e",
   "metadata": {},
   "outputs": [
    {
     "name": "stdout",
     "output_type": "stream",
     "text": [
      "Submitted batch job 443007\n"
     ]
    }
   ],
   "source": [
    "THREADS = 2\n",
    "logdir = f'{LOGS}/Q2'\n",
    "\n",
    "todo = '''\n",
    "conda activate qiime2-moshpit-2025.4\n",
    "\n",
    "qiime tools export \\\n",
    "    --input-path $PS/Taxonomy/taxonomy_mags.qza \\\n",
    "    --output-path $PS/MAGs\n",
    "'''\n",
    "\n",
    "binac2(tasks=THREADS, time='01-00', mem=8, name=f'Tax_MAGs_export', logdir=logdir, todo=todo)"
   ]
  },
  {
   "cell_type": "markdown",
   "id": "088f7b0d-6b12-46d5-9326-6a9acd32c6bd",
   "metadata": {},
   "source": [
    "#### Copy MAGs that are not from bacteria/archaea to another directory"
   ]
  },
  {
   "cell_type": "code",
   "execution_count": 42,
   "id": "e02bfade-53f0-49de-85b3-f413306c471a",
   "metadata": {},
   "outputs": [],
   "source": [
    "taxa = pd.read_csv(f'{PS}/MAGs/taxonomy.tsv', sep='\\t', index_col=0)\n",
    "trash = taxa.loc[(~taxa.Taxon.str.contains('d__Bac')) & (~taxa.Taxon.str.contains('d__Arc'))]\n",
    "\n",
    "!mkdir {PS}/MAGs/Filtered_out\n",
    "\n",
    "for ind in trash.index:\n",
    "    \n",
    "    !mv {PS}/MAGs/Exported/{ind}.fa* {PS}/MAGs/Filtered_out/"
   ]
  },
  {
   "cell_type": "markdown",
   "id": "c121120b-c40e-41b8-adf6-7fd80db83589",
   "metadata": {},
   "source": [
    "### Import back as whole table"
   ]
  },
  {
   "cell_type": "code",
   "execution_count": 19,
   "id": "ced60e11-e5e2-4e53-95b4-e42a0dd2e51b",
   "metadata": {},
   "outputs": [
    {
     "name": "stdout",
     "output_type": "stream",
     "text": [
      "Submitted batch job 600489\n"
     ]
    }
   ],
   "source": [
    "THREADS = 2\n",
    "logdir = f'{LOGS}/Q2'\n",
    "\n",
    "todo = '''\n",
    "conda activate qiime2-moshpit-2025.4\n",
    "\n",
    "qiime tools import \\\n",
    "    --output-path $PS/MAGs/derep_mags.qza \\\n",
    "    --type \"FeatureData[MAG]\" \\\n",
    "    --input-path $PS/MAGs/Exported\n",
    "'''\n",
    "\n",
    "binac2(tasks=THREADS, time='01-00', mem=16, name=f'Derep_MAGs_Q2_reimport', \n",
    "       logdir=logdir, todo=todo)"
   ]
  },
  {
   "cell_type": "markdown",
   "id": "2f9b21b4-593a-4e52-b4c1-34c3d4b8ef85",
   "metadata": {},
   "source": [
    "### Import back as batches"
   ]
  },
  {
   "cell_type": "code",
   "execution_count": 43,
   "id": "6d12f7d4-3925-45d7-a5b5-0da47166a6c3",
   "metadata": {},
   "outputs": [
    {
     "name": "stdout",
     "output_type": "stream",
     "text": [
      "Submitted batch job 443008\n",
      "Submitted batch job 443009\n",
      "Submitted batch job 443010\n",
      "Submitted batch job 443011\n",
      "Submitted batch job 443012\n",
      "Submitted batch job 443013\n",
      "Submitted batch job 443014\n",
      "Submitted batch job 443015\n",
      "Submitted batch job 443016\n",
      "Submitted batch job 443017\n",
      "Submitted batch job 443018\n",
      "Submitted batch job 443019\n",
      "Submitted batch job 443020\n",
      "Submitted batch job 443021\n",
      "Submitted batch job 443022\n",
      "Submitted batch job 443023\n",
      "Submitted batch job 443024\n",
      "Submitted batch job 443025\n",
      "Submitted batch job 443026\n",
      "Submitted batch job 443027\n",
      "Submitted batch job 443028\n"
     ]
    }
   ],
   "source": [
    "THREADS = 2\n",
    "logdir = f'{LOGS}/Q2'\n",
    "\n",
    "todo = '''\n",
    "conda activate qiime2-moshpit-2025.4\n",
    "\n",
    "mkdir -p $WS/{BATCH}\n",
    "\n",
    "IDS=({IDS})\n",
    "for fa in ${{IDS[@]}}; do\n",
    "    cp $PS/MAGs/Exported/$fa $WS/{BATCH}/$fa\n",
    "done\n",
    "\n",
    "qiime tools cache-import \\\n",
    "    --cache ./cache \\\n",
    "    --key {BATCH}_derep_mags \\\n",
    "    --type \"FeatureData[MAG]\" \\\n",
    "    --input-path $WS/{BATCH}\n",
    "\n",
    "#rm -r $WS/{BATCH}\n",
    "'''\n",
    "\n",
    "# Split your MAGs into batches for parallel execution (b - number of MAGs per batch).\n",
    "mags = [c for c in os.listdir(f'{PS}/MAGs/Exported') if c.endswith('.fasta')]\n",
    "b = 100\n",
    "batches = {f'b{i+1}-{i+b}': mags[i:i + b] for i in range(0, len(mags), b)}\n",
    "\n",
    "#launch samples\n",
    "for batch in batches:\n",
    "    #if batch in [f'b1-{b}']:\n",
    "    #    continue\n",
    "\n",
    "    IDS = ' '.join(batches[batch])\n",
    "    binac2(tasks=THREADS, time='01-00', mem=16, name=f'{batch}_Derep_MAGs_Q2_imp', logdir=logdir, \n",
    "           todo=todo.format(IDS=IDS, BATCH=batch))"
   ]
  },
  {
   "cell_type": "markdown",
   "id": "7dd8fc14-9168-4a20-a415-85f1ebbe75d5",
   "metadata": {},
   "source": [
    "### MAGs length and index"
   ]
  },
  {
   "cell_type": "code",
   "execution_count": 29,
   "id": "ff7b1d59-701f-4d12-adb6-860ecc9fd481",
   "metadata": {},
   "outputs": [
    {
     "name": "stdout",
     "output_type": "stream",
     "text": [
      "Submitted batch job 600792\n"
     ]
    }
   ],
   "source": [
    "THREADS = 12\n",
    "logdir = f'{LOGS}/Q2'\n",
    "\n",
    "todo = '''\n",
    "conda activate qiime2-moshpit-2025.4\n",
    "\n",
    "#MAGs lengths\n",
    "qiime annotate get-feature-lengths \\\n",
    "    --i-features $PS/MAGs/derep_mags.qza \\\n",
    "    --o-lengths ./cache:mags_derep_length \\\n",
    "    --verbose                  \n",
    "\n",
    "#index dereplicated MAGs\n",
    "qiime assembly index-derep-mags \\\n",
    "    --i-mags $PS/MAGs/derep_mags.qza \\\n",
    "    --p-threads {THREADS} \\\n",
    "    --p-seed 100 \\\n",
    "    --o-index ./cache:mags_derep_index \\\n",
    "    --verbose\n",
    "'''\n",
    "\n",
    "binac2(tasks=THREADS, time='01-00', mem=64, name=f'MAGs_length', logdir=logdir, \n",
    "       todo=todo.format(THREADS=THREADS))"
   ]
  },
  {
   "cell_type": "markdown",
   "id": "ff8076e2-920a-4182-a039-76b4338b728a",
   "metadata": {},
   "source": [
    "### Get abundances (in batches)"
   ]
  },
  {
   "cell_type": "code",
   "execution_count": 42,
   "id": "e740b836-c34f-4e40-9947-8d52b060daa7",
   "metadata": {},
   "outputs": [
    {
     "name": "stdout",
     "output_type": "stream",
     "text": [
      "Submitted batch job 600811\n",
      "Submitted batch job 600812\n",
      "Submitted batch job 600813\n",
      "Submitted batch job 600814\n",
      "Submitted batch job 600815\n",
      "Submitted batch job 600816\n",
      "Submitted batch job 600817\n",
      "Submitted batch job 600818\n",
      "Submitted batch job 600819\n",
      "Submitted batch job 600820\n",
      "Submitted batch job 600821\n",
      "Submitted batch job 600822\n",
      "Submitted batch job 600823\n",
      "Submitted batch job 600824\n",
      "Submitted batch job 600825\n",
      "Submitted batch job 600826\n"
     ]
    }
   ],
   "source": [
    "THREADS = 24\n",
    "logdir = f'{LOGS}/Q2'\n",
    "\n",
    "todo = '''\n",
    "conda activate qiime2-moshpit-2025.4\n",
    "mkdir -p TEMP/{BATCH}\n",
    "export TMPDIR=$WS/TEMP/{BATCH}\n",
    "\n",
    "#Map MAGs to reads\n",
    "qiime assembly map-reads \\\n",
    "    --i-index ./cache:mags_derep_index \\\n",
    "    --i-reads ./cache:{BATCH} \\\n",
    "    --p-threads {THREADS} \\\n",
    "    --p-seed 100 \\\n",
    "    --o-alignment-maps ./cache:{BATCH}_reads_to_derep_mags \\\n",
    "    --verbose\n",
    "\n",
    "#Get abundances\n",
    "qiime annotate estimate-abundance \\\n",
    "    --i-feature-lengths ./cache:mags_derep_length \\\n",
    "    --i-alignment-maps ./cache:{BATCH}_reads_to_derep_mags \\\n",
    "    --p-threads {THREADS} \\\n",
    "    --p-metric tpm \\\n",
    "    --p-min-mapq 42 \\\n",
    "    --o-abundances $PS/MAGs/{BATCH}_mags_table_tpm.qza \\\n",
    "    --verbose\n",
    "\n",
    "rm -r $WS/TEMP/{BATCH}\n",
    "'''\n",
    "\n",
    "# Split your samples into batches for parallel execution (b - number of samples per batch).\n",
    "b = 10\n",
    "batches = {f'b{i+1}-{i+b}': cleans[i:i + b] for i in range(0, len(cleans), b)}\n",
    "\n",
    "#launch samples\n",
    "for batch in batches:\n",
    "    #if batch in [f'b1-{b}']:\n",
    "    #    continue\n",
    "    \n",
    "    if os.path.exists(f'{PS}/MAGs/{batch}_mags_table_tpm.qza'):\n",
    "        continue\n",
    "    \n",
    "    binac2(tasks=THREADS, time='5-00', mem=256, name=f'{batch}_MAG_tpm', logdir=logdir, \n",
    "           todo=todo.format(BATCH=batch, THREADS=THREADS))"
   ]
  },
  {
   "cell_type": "markdown",
   "id": "1e63f480-2fc1-4cab-9df8-c7a223899ade",
   "metadata": {},
   "source": [
    "### Merge MAG tables"
   ]
  },
  {
   "cell_type": "code",
   "execution_count": 3,
   "id": "cd578d3d-f16c-4d26-85f3-f313cfca3e2d",
   "metadata": {},
   "outputs": [
    {
     "name": "stdout",
     "output_type": "stream",
     "text": [
      "Submitted batch job 744742\n"
     ]
    }
   ],
   "source": [
    "THREADS = 2\n",
    "logdir = f'{LOGS}/Q2'\n",
    "\n",
    "todo = '''\n",
    "conda activate qiime2-moshpit-2025.4\n",
    "\n",
    "qiime feature-table merge \\\n",
    "    --i-tables $PS/MAGs/b*-*_mags_table_tpm.qza \\\n",
    "    --o-merged-table $PS/MAGs/mags_table_tpm.qza\n",
    "\n",
    "qiime feature-table summarize \\\n",
    "    --i-table $PS/MAGs/mags_table_tpm.qza \\\n",
    "    --o-visualization $PS/MAGs/mags_table_tpm.qzv\n",
    "\n",
    "#rm $PS/MAGs/b*-*_mags_table_tpm.qza\n",
    "'''\n",
    "\n",
    "#launch samples             \n",
    "binac2(tasks=THREADS, time='01-00', mem=16, name=f'Merging_tables_mags', logdir=logdir, todo=todo)"
   ]
  },
  {
   "cell_type": "markdown",
   "id": "75e13ab6-e9dc-4211-bb53-48e3bd485982",
   "metadata": {},
   "source": [
    "# Functional annotations"
   ]
  },
  {
   "cell_type": "markdown",
   "id": "e90837f1-ee35-43ec-adb7-85da895c3e4b",
   "metadata": {},
   "source": [
    "## Fetch databases"
   ]
  },
  {
   "cell_type": "markdown",
   "id": "1210abf2-55c7-4c73-8e77-dc33ddcb6a56",
   "metadata": {},
   "source": [
    "### Diamond"
   ]
  },
  {
   "cell_type": "code",
   "execution_count": 19,
   "id": "7c90bc23-bc63-47c2-ba3f-aeba05c990a9",
   "metadata": {},
   "outputs": [
    {
     "name": "stdout",
     "output_type": "stream",
     "text": [
      "Submitted batch job 128797\n"
     ]
    }
   ],
   "source": [
    "THREADS = 2\n",
    "logdir = f'{LOGS}/Q2'\n",
    "\n",
    "todo = '''\n",
    "conda activate qiime2-moshpit-2025.4\n",
    "\n",
    "mkdir -p $DB/Diamond\n",
    "\n",
    "qiime annotate fetch-diamond-db \\\n",
    "    --o-db $DB/Diamond/diamond_db.qza \\\n",
    "    --verbose\n",
    "'''\n",
    "\n",
    "binac2(tasks=THREADS, time='02-00', mem=16, name=f'Diamond_DB', logdir=logdir, todo=todo)"
   ]
  },
  {
   "cell_type": "markdown",
   "id": "d0dc6f33-45c2-432f-8429-42cfb0167011",
   "metadata": {},
   "source": [
    "### EggNOG"
   ]
  },
  {
   "cell_type": "code",
   "execution_count": 22,
   "id": "891a541a-02a0-4011-9f05-28dfd82d3dd3",
   "metadata": {},
   "outputs": [
    {
     "name": "stdout",
     "output_type": "stream",
     "text": [
      "Submitted batch job 128799\n"
     ]
    }
   ],
   "source": [
    "THREADS = 2\n",
    "logdir = f'{LOGS}/Q2'\n",
    "\n",
    "todo = '''\n",
    "conda activate qiime2-moshpit-2025.4\n",
    "\n",
    "mkdir -p $DB/EggNOG\n",
    "\n",
    "qiime annotate fetch-eggnog-db \\\n",
    "    --o-db $DB/EggNOG/eggnog_db.qza \\\n",
    "    --verbose\n",
    "'''\n",
    "\n",
    "binac2(tasks=THREADS, time='02-00', mem=16, name=f'EggNOG_DB', logdir=logdir, todo=todo)"
   ]
  },
  {
   "cell_type": "markdown",
   "id": "ff3071a4-21bb-4883-b0e8-9f41dcbea123",
   "metadata": {},
   "source": [
    "## Get functions\n",
    "Since dereplicated MAGs will require a long time for functional annotations, lets export them and reimport into Qiime2 in batches for parallel execution"
   ]
  },
  {
   "cell_type": "markdown",
   "id": "647f3e33-a03a-4d25-b9d1-25c5a912b1a1",
   "metadata": {},
   "source": [
    "### EggNOG annotations"
   ]
  },
  {
   "cell_type": "code",
   "execution_count": 4,
   "id": "93ea9afd-0c47-4ae5-b637-9c8403117675",
   "metadata": {},
   "outputs": [
    {
     "name": "stdout",
     "output_type": "stream",
     "text": [
      "Submitted batch job 501358\n",
      "Submitted batch job 501359\n",
      "Submitted batch job 501360\n",
      "Submitted batch job 501361\n",
      "Submitted batch job 501362\n",
      "Submitted batch job 501363\n",
      "Submitted batch job 501364\n",
      "Submitted batch job 501365\n",
      "Submitted batch job 501366\n",
      "Submitted batch job 501367\n",
      "Submitted batch job 501368\n",
      "Submitted batch job 501369\n",
      "Submitted batch job 501370\n",
      "Submitted batch job 501371\n",
      "Submitted batch job 501372\n",
      "Submitted batch job 501373\n",
      "Submitted batch job 501374\n",
      "Submitted batch job 501375\n",
      "Submitted batch job 501376\n",
      "Submitted batch job 501377\n",
      "Submitted batch job 501378\n"
     ]
    }
   ],
   "source": [
    "THREADS = 12\n",
    "logdir = f'{LOGS}/Q2'\n",
    "\n",
    "todo = '''\n",
    "conda activate qiime2-moshpit-2025.4\n",
    "\n",
    "mkdir -p $PS/Functions\n",
    "\n",
    "#diamond\n",
    "qiime annotate search-orthologs-diamond \\\n",
    "    --i-seqs ./cache:{BATCH}_derep_mags \\\n",
    "    --i-db $DB/Diamond/diamond_db.qza \\\n",
    "    --p-num-cpus {THREADS} \\\n",
    "    --p-db-in-memory \\\n",
    "    --o-eggnog-hits $PS/Functions/{BATCH}_eggnog_hits.qza \\\n",
    "    --o-table $PS/Functions/{BATCH}_eggnog_table.qza  \\\n",
    "    --o-loci $PS/Functions/{BATCH}_eggnog_loci.qza \\\n",
    "    --verbose\n",
    "\n",
    "#eggnog\n",
    "qiime annotate map-eggnog \\\n",
    "    --i-eggnog-hits $PS/Functions/{BATCH}_eggnog_hits.qza \\\n",
    "    --i-db $DB/EggNOG/eggnog_db.qza \\\n",
    "    --p-num-cpus {THREADS} \\\n",
    "    --p-db-in-memory \\\n",
    "    --o-ortholog-annotations $PS/Functions/{BATCH}_eggnog_annotations.qza \\\n",
    "    --verbose\n",
    "'''\n",
    "\n",
    "# Split your MAGs into batches for parallel execution (b - number of MAGs per batch).\n",
    "mags = [c for c in os.listdir(f'{PS}/MAGs/Exported') if c.endswith('.fasta')]\n",
    "b = 100\n",
    "batches = {f'b{i+1}-{i+b}': mags[i:i + b] for i in range(0, len(mags), b)}\n",
    "\n",
    "#launch samples\n",
    "for batch in batches:\n",
    "    #if batch in [f'b1-{b}']:\n",
    "    #    continue\n",
    "\n",
    "    binac2(tasks=THREADS, time='10-00', mem=64, name=f'{batch}_Func_Eggnog', logdir=logdir, \n",
    "           todo=todo.format(THREADS=THREADS, BATCH=batch))"
   ]
  },
  {
   "cell_type": "code",
   "execution_count": 3,
   "id": "0b95edb1-c7a9-4d21-ae42-757cdb6a9d2b",
   "metadata": {},
   "outputs": [
    {
     "data": {
      "text/plain": [
       "21"
      ]
     },
     "execution_count": 3,
     "metadata": {},
     "output_type": "execute_result"
    }
   ],
   "source": [
    "mags = [c for c in os.listdir(f'{PS}/MAGs/Exported') if c.endswith('.fasta')]\n",
    "b = 100\n",
    "batches = {f'b{i+1}-{i+b}': mags[i:i + b] for i in range(0, len(mags), b)}\n",
    "len(batches)"
   ]
  },
  {
   "cell_type": "markdown",
   "id": "825709d3-b252-4086-a683-8ae3d356ff77",
   "metadata": {},
   "source": [
    "### Merge EggNOG tables"
   ]
  },
  {
   "cell_type": "code",
   "execution_count": 8,
   "id": "30844e3e-5153-4349-821c-ebb9685dcee4",
   "metadata": {},
   "outputs": [
    {
     "name": "stdout",
     "output_type": "stream",
     "text": [
      "Submitted batch job 600255\n"
     ]
    }
   ],
   "source": [
    "THREADS = 2\n",
    "logdir = f'{LOGS}/Q2'\n",
    "\n",
    "todo = '''\n",
    "conda activate qiime2-moshpit-2025.4\n",
    "\n",
    "qiime feature-table merge \\\n",
    "    --i-tables $PS/Functions/b*-*_eggnog_table.qza \\\n",
    "    --p-overlap-method average \\\n",
    "    --o-merged-table $PS/Functions/eggnog_table.qza\n",
    "\n",
    "qiime feature-table summarize \\\n",
    "    --i-table $PS/Functions/eggnog_table.qza \\\n",
    "    --o-visualization $PS/Functions/eggnog_table.qzv\n",
    "\n",
    "#rm $PS/Functions/b*-*_eggnog_table.qza\n",
    "'''\n",
    "\n",
    "#launch samples             \n",
    "binac2(tasks=THREADS, time='01-00', mem=16, name=f'Merging_tables_eggnog', logdir=logdir, todo=todo)"
   ]
  },
  {
   "cell_type": "code",
   "execution_count": 7,
   "id": "c16a5864-a48a-4ff8-a7aa-91d1537d368f",
   "metadata": {},
   "outputs": [
    {
     "name": "stdout",
     "output_type": "stream",
     "text": [
      "/bin/bash: line 1: qiime: command not found\n"
     ]
    }
   ],
   "source": [
    "!qiime feature-table merge"
   ]
  },
  {
   "cell_type": "markdown",
   "id": "baecbfd4-2251-412a-b1fe-a72f1a6ac1f5",
   "metadata": {},
   "source": [
    "### Export EggNOG batches"
   ]
  },
  {
   "cell_type": "code",
   "execution_count": 5,
   "id": "99c65e51-9894-4325-aafb-544d9b2c2dec",
   "metadata": {},
   "outputs": [
    {
     "name": "stdout",
     "output_type": "stream",
     "text": [
      "Submitted batch job 600234\n",
      "Submitted batch job 600235\n",
      "Submitted batch job 600236\n",
      "Submitted batch job 600237\n",
      "Submitted batch job 600238\n",
      "Submitted batch job 600239\n",
      "Submitted batch job 600240\n",
      "Submitted batch job 600241\n",
      "Submitted batch job 600242\n",
      "Submitted batch job 600243\n",
      "Submitted batch job 600244\n",
      "Submitted batch job 600245\n",
      "Submitted batch job 600246\n",
      "Submitted batch job 600247\n",
      "Submitted batch job 600248\n",
      "Submitted batch job 600249\n",
      "Submitted batch job 600250\n",
      "Submitted batch job 600251\n",
      "Submitted batch job 600252\n",
      "Submitted batch job 600253\n",
      "Submitted batch job 600254\n"
     ]
    }
   ],
   "source": [
    "THREADS = 2\n",
    "logdir = f'{LOGS}/Q2'\n",
    "\n",
    "todo = '''\n",
    "conda activate qiime2-moshpit-2025.4\n",
    "\n",
    "mkdir -p $PS/Functions/Annotations\n",
    "qiime tools export \\\n",
    "    --input-path $PS/Functions/{BATCH}_eggnog_annotations.qza \\\n",
    "    --output-path $PS/Functions/Annotations\n",
    "\n",
    "mkdir -p $PS/Functions/Hits\n",
    "qiime tools export \\\n",
    "    --input-path $PS/Functions/{BATCH}_eggnog_hits.qza \\\n",
    "    --output-path $PS/Functions/Hits\n",
    "\n",
    "mkdir -p $PS/Functions/Loci\n",
    "qiime tools export \\\n",
    "    --input-path $PS/Functions/{BATCH}_eggnog_loci.qza \\\n",
    "    --output-path $PS/Functions/Loci    \n",
    "'''\n",
    "\n",
    "# Split your MAGs into batches for parallel execution (b - number of MAGs per batch).\n",
    "mags = [c for c in os.listdir(f'{PS}/MAGs/Exported') if c.endswith('.fasta')]\n",
    "b = 100\n",
    "batches = {f'b{i+1}-{i+b}': mags[i:i + b] for i in range(0, len(mags), b)}\n",
    "\n",
    "#launch samples\n",
    "for batch in batches:\n",
    "    #if batch in [f'b1-{b}']:\n",
    "    #    continue\n",
    "\n",
    "    IDS = ' '.join(batches[batch])\n",
    "    binac2(tasks=THREADS, time='01-00', mem=16, name=f'{batch}_exp_egg', logdir=logdir, \n",
    "           todo=todo.format(IDS=IDS, BATCH=batch))"
   ]
  },
  {
   "cell_type": "markdown",
   "id": "bdb65d3e-32c3-475e-8dcf-9023ba68d68b",
   "metadata": {},
   "source": [
    "### Import back EggNOG batches as whole dataset"
   ]
  },
  {
   "cell_type": "code",
   "execution_count": 12,
   "id": "9311239c-ece0-4c36-a88d-efa2a7ac74c0",
   "metadata": {},
   "outputs": [
    {
     "name": "stdout",
     "output_type": "stream",
     "text": [
      "Submitted batch job 600256\n"
     ]
    }
   ],
   "source": [
    "THREADS = 2\n",
    "logdir = f'{LOGS}/Q2'\n",
    "\n",
    "todo = '''\n",
    "conda activate qiime2-moshpit-2025.4\n",
    "\n",
    "qiime tools import \\\n",
    "    --type \"GenomeData[NOG]\" \\\n",
    "    --input-path $PS/Functions/Annotations \\\n",
    "    --output-path $PS/Functions/eggnog_annotations.qza\n",
    "\n",
    "qiime tools import \\\n",
    "    --type \"SampleData[Orthologs]\" \\\n",
    "    --input-path $PS/Functions/Hits \\\n",
    "    --output-path $PS/Functions/eggnog_hits.qza\n",
    "\n",
    "qiime tools import \\\n",
    "    --type \"GenomeData[Loci]\" \\\n",
    "    --input-path $PS/Functions/Loci \\\n",
    "    --output-path $PS/Functions/eggnog_loci.qza\n",
    "'''\n",
    "\n",
    "binac2(tasks=THREADS, time='01-00', mem=16, name=f'imp_egg', logdir=logdir, todo=todo)"
   ]
  },
  {
   "cell_type": "code",
   "execution_count": 20,
   "id": "563474a1-8428-42c2-9a72-64413ce43cb7",
   "metadata": {},
   "outputs": [],
   "source": [
    "#make sure that all commands above work and clean the room!\n",
    "\n",
    "!rm -r {PS}/Functions/Annotations {PS}/Functions/Hits {PS}/Functions/b*-*_*.qza"
   ]
  },
  {
   "cell_type": "code",
   "execution_count": 3,
   "id": "5a3b7235-5c1c-4d8e-b529-f2e2d82dda3f",
   "metadata": {
    "jupyter": {
     "source_hidden": true
    }
   },
   "outputs": [
    {
     "name": "stdout",
     "output_type": "stream",
     "text": [
      "Submitted batch job 131242\n"
     ]
    }
   ],
   "source": [
    "#qiime2 2025.4\n",
    "\n",
    "THREADS = 12\n",
    "logdir = f'{LOGS}/Q2'\n",
    "\n",
    "todo = '''\n",
    "conda activate qiime2-moshpit-2024.10\n",
    "\n",
    "mkdir -p $PS/Functions\n",
    "\n",
    "#diamond\n",
    "qiime annotate search-orthologs-diamond \\\n",
    "    --i-sequences $PS/MAGs/derep_mags.qza \\\n",
    "    --i-diamond-db $DB/Diamond/diamond_db.qza \\\n",
    "    --p-num-cpus {THREADS} \\\n",
    "    --p-db-in-memory \\\n",
    "    --o-eggnog-hits ./cache:eggnog_hits \\\n",
    "    --o-table $PS/Functions/eggnog_table.qza  \\\n",
    "    --verbose\n",
    "\n",
    "#eggnog\n",
    "qiime annotate map-eggnog \\\n",
    "    --i-eggnog-hits ./cache:eggnog_hits \\\n",
    "    --i-eggnog-db ./cache:eggnog_db \\\n",
    "    --p-num-cpus {THREADS} \\\n",
    "    --p-db-in-memory \\\n",
    "    --o-ortholog-annotations $PS/Functions/eggnog_annotations.qza \\\n",
    "    --verbose\n",
    "'''\n",
    "\n",
    "binac2(tasks=THREADS, time='05-00', mem=120, name=f'Func_Eggnog', logdir=logdir, \n",
    "       todo=todo.format(THREADS=THREADS))"
   ]
  },
  {
   "cell_type": "markdown",
   "id": "7d82bae3-f1b5-4bbf-a02e-7ac202bea077",
   "metadata": {},
   "source": [
    "### Convert to other categories"
   ]
  },
  {
   "cell_type": "code",
   "execution_count": 11,
   "id": "efd22b03-d32e-44ba-8a3b-143a9d0a319f",
   "metadata": {},
   "outputs": [
    {
     "data": {
      "text/plain": [
       "2046"
      ]
     },
     "execution_count": 11,
     "metadata": {},
     "output_type": "execute_result"
    }
   ],
   "source": [
    "keep = pd.DataFrame()\n",
    "keep.index = [f.rsplit('.', 1)[0] for f in os.listdir(f'{PS}/MAGs/Exported') if f.endswith('.fasta')]\n",
    "keep.index.name = 'SampleID'\n",
    "keep.to_csv(f'{PS}/MAGs/keep.tsv', sep='\\t')\n",
    "len(keep)"
   ]
  },
  {
   "cell_type": "code",
   "execution_count": 12,
   "id": "e9a19026-039b-46cf-b175-c9e391d97fda",
   "metadata": {},
   "outputs": [
    {
     "name": "stdout",
     "output_type": "stream",
     "text": [
      "Submitted batch job 771740\n"
     ]
    }
   ],
   "source": [
    "THREADS = 2\n",
    "logdir = f'{LOGS}/Q2'\n",
    "\n",
    "todo = '''\n",
    "conda activate qiime2-moshpit-2025.4\n",
    "\n",
    "#extract categories\n",
    "!qiime feature-table filter-samples \\\n",
    "    --i-table $PS/Functions/eggnog_annotations.qza \\\n",
    "    --m-metadata-file $PS/MAGs/keep.tsv \\\n",
    "    --o-filtered-table {$PS/Functions/eggnog_annotations.qza\n",
    "'''\n",
    "\n",
    "\n",
    "binac2(tasks=THREADS, time='01-00', mem=32, name=f'Filter_eggs', logdir=logdir, todo=todo)"
   ]
  },
  {
   "cell_type": "code",
   "execution_count": 21,
   "id": "eaaff904-9a42-4708-89db-7a146dc5f13b",
   "metadata": {},
   "outputs": [
    {
     "name": "stdout",
     "output_type": "stream",
     "text": [
      "sbatch: error: Batch job submission failed: Socket timed out on send/recv operation\n",
      "Submitted batch job 772321\n",
      "Submitted batch job 772323\n",
      "Submitted batch job 772335\n",
      "Submitted batch job 772352\n",
      "Submitted batch job 772367\n"
     ]
    }
   ],
   "source": [
    "THREADS = 2\n",
    "logdir = f'{LOGS}/Q2'\n",
    "\n",
    "todo = '''\n",
    "conda activate qiime2-moshpit-2025.4\n",
    "\n",
    "#extract categories\n",
    "#qiime annotate extract-annotations \\\n",
    "#    --i-ortholog-annotations $PS/Functions/eggnog_annotations.qza \\\n",
    "#    --p-annotation {CAT} \\\n",
    "#    --p-max-evalue 0.0001 \\\n",
    "#    --o-annotation-frequency $PS/Functions/{CAT}_annotations.qza \\\n",
    "#    --verbose\n",
    "\n",
    "#filter tables\n",
    "qiime feature-table filter-samples \\\n",
    "    --i-table $PS/Functions/{CAT}_annotations.qza \\\n",
    "    --m-metadata-file $PS/MAGs/keep.tsv \\\n",
    "    --o-filtered-table $PS/Functions/{CAT}_annotations.qza\n",
    "\n",
    "#multiply categories\n",
    "qiime annotate multiply-tables \\\n",
    "    --i-table1 $PS/MAGs/mags_table_tpm.qza \\\n",
    "    --i-table2 $PS/Functions/{CAT}_annotations.qza \\\n",
    "    --o-result-table $PS/Functions/{CAT}_table.qza \\\n",
    "    --verbose\n",
    "\n",
    "qiime feature-table summarize \\\n",
    "    --i-table $PS/Functions/{CAT}_table.qza \\\n",
    "    --o-visualization $PS/Functions/{CAT}_table.qzv\n",
    "'''\n",
    "\n",
    "#select categories to convert into here!\n",
    "cats = ['cog', 'caz', 'kegg_ko', 'kegg_pathway', 'kegg_reaction', 'kegg_module', 'brite']\n",
    "\n",
    "for cat in cats:\n",
    "    if cat in ['kegg_reaction',]:\n",
    "        continue\n",
    "    binac2(tasks=THREADS, time='01-00', mem=32, name=f'Egg_to_{cat}', logdir=logdir, \n",
    "           todo=todo.format(CAT=cat))"
   ]
  },
  {
   "cell_type": "markdown",
   "id": "f2a9b33e-b328-47af-bc48-cfda1f55f9c0",
   "metadata": {},
   "source": [
    "# Status"
   ]
  },
  {
   "cell_type": "code",
   "execution_count": 27,
   "id": "2409f3b5-0250-4fb5-b201-1ab9b641bfe1",
   "metadata": {},
   "outputs": [
    {
     "name": "stdout",
     "output_type": "stream",
     "text": [
      "JOBID     NAME                MIN_MEMORY TASKS STATE    TIME        TIME_LIMIT \n",
      "772335    Egg_to_kegg_pathway 32G        2     RUNNING  1:31        1-00:00:00 \n",
      "772352    Egg_to_kegg_module  32G        2     RUNNING  1:31        1-00:00:00 \n",
      "772367    Egg_to_brite        32G        2     RUNNING  1:31        1-00:00:00 \n",
      "772323    Egg_to_kegg_ko      32G        2     RUNNING  1:35        1-00:00:00 \n",
      "772321    Egg_to_caz          32G        2     RUNNING  1:37        1-00:00:00 \n",
      "772320    Egg_to_cog          32G        2     RUNNING  1:38        1-00:00:00 \n"
     ]
    }
   ],
   "source": [
    "!squeue --Format $FORMAT -u $USER"
   ]
  },
  {
   "cell_type": "code",
   "execution_count": 24,
   "id": "0adcd312-caea-492c-a3cf-5de9352091ac",
   "metadata": {},
   "outputs": [],
   "source": [
    "!scancel 744914"
   ]
  },
  {
   "cell_type": "code",
   "execution_count": null,
   "id": "b1f0429c-ffc6-4795-bf40-89e21c00d78c",
   "metadata": {},
   "outputs": [],
   "source": [
    "!scontrol show job 201765"
   ]
  }
 ],
 "metadata": {
  "kernelspec": {
   "display_name": "Python [conda env:base] *",
   "language": "python",
   "name": "conda-base-py"
  },
  "language_info": {
   "codemirror_mode": {
    "name": "ipython",
    "version": 3
   },
   "file_extension": ".py",
   "mimetype": "text/x-python",
   "name": "python",
   "nbconvert_exporter": "python",
   "pygments_lexer": "ipython3",
   "version": "3.12.8"
  }
 },
 "nbformat": 4,
 "nbformat_minor": 5
}
